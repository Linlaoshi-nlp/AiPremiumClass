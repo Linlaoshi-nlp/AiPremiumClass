{
 "cells": [
  {
   "cell_type": "code",
   "execution_count": null,
   "metadata": {
    "execution": {
     "iopub.execute_input": "2025-07-25T08:09:08.905491Z",
     "iopub.status.busy": "2025-07-25T08:09:08.905321Z",
     "iopub.status.idle": "2025-07-25T08:10:32.262445Z",
     "shell.execute_reply": "2025-07-25T08:10:32.261749Z",
     "shell.execute_reply.started": "2025-07-25T08:09:08.905474Z"
    },
    "trusted": true
   },
   "outputs": [],
   "source": [
    "!pip install -U bitsandbytes"
   ]
  },
  {
   "cell_type": "code",
   "execution_count": null,
   "metadata": {
    "trusted": true
   },
   "outputs": [],
   "source": [
    "import torch\n",
    "from transformers import AutoModelForCausalLM, BitsAndBytesConfig\n",
    "\n",
    "quantization_config = BitsAndBytesConfig(\n",
    "    load_in_4bit=True,\n",
    "    bnb_4bit_compute_dtype=torch.bfloat16)\n"
   ]
  },
  {
   "cell_type": "code",
   "execution_count": 5,
   "metadata": {
    "execution": {
     "iopub.execute_input": "2025-07-25T08:17:36.958415Z",
     "iopub.status.busy": "2025-07-25T08:17:36.958096Z",
     "iopub.status.idle": "2025-07-25T08:18:44.000580Z",
     "shell.execute_reply": "2025-07-25T08:18:44.000024Z",
     "shell.execute_reply.started": "2025-07-25T08:17:36.958365Z"
    },
    "trusted": true
   },
   "outputs": [
    {
     "data": {
      "application/vnd.jupyter.widget-view+json": {
       "model_id": "5b323f23225049058d73b4d7a59ac989",
       "version_major": 2,
       "version_minor": 0
      },
      "text/plain": [
       "Loading checkpoint shards:   0%|          | 0/5 [00:00<?, ?it/s]"
      ]
     },
     "metadata": {},
     "output_type": "display_data"
    }
   ],
   "source": [
    "model_4bit = AutoModelForCausalLM.from_pretrained(\n",
    "    \"Qwen/Qwen3-8B\",\n",
    "    device_map='auto',\n",
    "    quantization_config=quantization_config,\n",
    ")"
   ]
  },
  {
   "cell_type": "code",
   "execution_count": 6,
   "metadata": {
    "execution": {
     "iopub.execute_input": "2025-07-25T08:19:01.402896Z",
     "iopub.status.busy": "2025-07-25T08:19:01.402095Z",
     "iopub.status.idle": "2025-07-25T08:19:15.491977Z",
     "shell.execute_reply": "2025-07-25T08:19:15.491273Z",
     "shell.execute_reply.started": "2025-07-25T08:19:01.402866Z"
    },
    "trusted": true
   },
   "outputs": [
    {
     "data": {
      "application/vnd.jupyter.widget-view+json": {
       "model_id": "a03583ea13594e839a2444e1c7b8f97d",
       "version_major": 2,
       "version_minor": 0
      },
      "text/plain": [
       "tokenizer_config.json: 0.00B [00:00, ?B/s]"
      ]
     },
     "metadata": {},
     "output_type": "display_data"
    },
    {
     "data": {
      "application/vnd.jupyter.widget-view+json": {
       "model_id": "1fac1da725984d569c36a5bee1c8645d",
       "version_major": 2,
       "version_minor": 0
      },
      "text/plain": [
       "vocab.json: 0.00B [00:00, ?B/s]"
      ]
     },
     "metadata": {},
     "output_type": "display_data"
    },
    {
     "data": {
      "application/vnd.jupyter.widget-view+json": {
       "model_id": "7eb834e20c0f429080863b661aa97a77",
       "version_major": 2,
       "version_minor": 0
      },
      "text/plain": [
       "merges.txt: 0.00B [00:00, ?B/s]"
      ]
     },
     "metadata": {},
     "output_type": "display_data"
    },
    {
     "data": {
      "application/vnd.jupyter.widget-view+json": {
       "model_id": "2a33bff26bd54efb98702896c65007b9",
       "version_major": 2,
       "version_minor": 0
      },
      "text/plain": [
       "tokenizer.json:   0%|          | 0.00/11.4M [00:00<?, ?B/s]"
      ]
     },
     "metadata": {},
     "output_type": "display_data"
    },
    {
     "data": {
      "text/plain": [
       "'讲一个笑话：有个人在河边，他带了一只鸭子，一只鹅，一袋麦子，他要过河，但只有他能划船，他怎么过河？ 这个笑话的笑点在于：他带的鸭子、鹅、麦子都是用来过河的，因为鸭子和鹅会游泳，麦子可以浮在水面上，所以不需要船，直接过河。但问题在于，他带的鸭子和鹅是动物，'"
      ]
     },
     "execution_count": 6,
     "metadata": {},
     "output_type": "execute_result"
    }
   ],
   "source": [
    "from transformers import AutoTokenizer\n",
    "\n",
    "tokenizer = AutoTokenizer.from_pretrained(\"Qwen/Qwen3-8B\")\n",
    "\n",
    "input_data = tokenizer('讲一个笑话：', return_tensors='pt').to(model_4bit.device)\n",
    "\n",
    "predict = model_4bit.generate(**input_data, max_new_tokens=100)\n",
    "\n",
    "indices = predict[0].tolist()\n",
    "tokenizer.decode(indices)"
   ]
  }
 ],
 "metadata": {
  "kaggle": {
   "accelerator": "nvidiaTeslaT4",
   "dataSources": [],
   "dockerImageVersionId": 31090,
   "isGpuEnabled": true,
   "isInternetEnabled": true,
   "language": "python",
   "sourceType": "notebook"
  },
  "kernelspec": {
   "display_name": "Python 3",
   "language": "python",
   "name": "python3"
  },
  "language_info": {
   "codemirror_mode": {
    "name": "ipython",
    "version": 3
   },
   "file_extension": ".py",
   "mimetype": "text/x-python",
   "name": "python",
   "nbconvert_exporter": "python",
   "pygments_lexer": "ipython3",
   "version": "3.11.13"
  }
 },
 "nbformat": 4,
 "nbformat_minor": 4
}

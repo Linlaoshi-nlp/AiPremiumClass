{
 "cells": [
  {
   "cell_type": "code",
   "execution_count": 2,
   "id": "67c4d3b4",
   "metadata": {},
   "outputs": [
    {
     "name": "stderr",
     "output_type": "stream",
     "text": [
      "Building prefix dict from the default dictionary ...\n",
      "Loading model from cache C:\\Users\\Administrator\\AppData\\Local\\Temp\\jieba.cache\n",
      "Loading model cost 0.575 seconds.\n",
      "Prefix dict has been built successfully.\n"
     ]
    },
    {
     "data": {
      "text/plain": [
       "1650497"
      ]
     },
     "execution_count": 2,
     "metadata": {},
     "output_type": "execute_result"
    }
   ],
   "source": [
    "import csv\n",
    "import jieba\n",
    "\n",
    "#1. 使用豆瓣电影评论数据完成文本分类处理：文本预处理，加载、构建词典。\n",
    "# （评论得分1～2\t表示positive取值：1，评论得分4～5代表negative取值：0）\n",
    "comments = []\n",
    "with open('./archive/DMSC.csv', 'r') as f:\n",
    "    readder = csv.DictReader(f)\n",
    "    for row in readder:\n",
    "        star = int(row['Star'])\n",
    "        if star == 3:\n",
    "            continue\n",
    "        if star in [1, 2]:\n",
    "            star = 1\n",
    "        else:\n",
    "            star = 0\n",
    "        comment = jieba.lcut(row['Comment'])\n",
    "        comments.append((comment, star))\n",
    "len(comments)     "
   ]
  },
  {
   "cell_type": "code",
   "execution_count": 3,
   "id": "0c9fc930",
   "metadata": {},
   "outputs": [
    {
     "data": {
      "text/plain": [
       "([' ',\n",
       "  '非常',\n",
       "  '失望',\n",
       "  '，',\n",
       "  '剧本',\n",
       "  '完全',\n",
       "  '敷衍了事',\n",
       "  '，',\n",
       "  '主线',\n",
       "  '剧情',\n",
       "  '没',\n",
       "  '突破',\n",
       "  '大家',\n",
       "  '可以',\n",
       "  '理解',\n",
       "  '，',\n",
       "  '可',\n",
       "  '所有',\n",
       "  '的',\n",
       "  '人物',\n",
       "  '都',\n",
       "  '缺乏',\n",
       "  '动机',\n",
       "  '，',\n",
       "  '正邪',\n",
       "  '之间',\n",
       "  '、',\n",
       "  '妇联',\n",
       "  '内部',\n",
       "  '都',\n",
       "  '没什么',\n",
       "  '火花',\n",
       "  '。',\n",
       "  '团结',\n",
       "  '-',\n",
       "  '分裂',\n",
       "  '-',\n",
       "  '团结',\n",
       "  '的',\n",
       "  '三段式',\n",
       "  '虽然',\n",
       "  '老套',\n",
       "  '但',\n",
       "  '其实',\n",
       "  '也',\n",
       "  '可以',\n",
       "  '利用',\n",
       "  '积攒',\n",
       "  '下来',\n",
       "  '的',\n",
       "  '形象',\n",
       "  '魅力',\n",
       "  '搞',\n",
       "  '出',\n",
       "  '意思',\n",
       "  '，',\n",
       "  '但',\n",
       "  '剧本',\n",
       "  '写得',\n",
       "  '非常',\n",
       "  '肤浅',\n",
       "  '、',\n",
       "  '平面',\n",
       "  '。',\n",
       "  '场面',\n",
       "  '上',\n",
       "  '调度',\n",
       "  '混乱',\n",
       "  '呆板',\n",
       "  '，',\n",
       "  '满屏',\n",
       "  '的',\n",
       "  '铁甲',\n",
       "  '审美疲劳',\n",
       "  '。',\n",
       "  '只有',\n",
       "  '笑',\n",
       "  '点算',\n",
       "  '得',\n",
       "  '上',\n",
       "  '差强人意',\n",
       "  '。'],\n",
       " 1)"
      ]
     },
     "execution_count": 3,
     "metadata": {},
     "output_type": "execute_result"
    }
   ],
   "source": [
    "comments[0]"
   ]
  },
  {
   "cell_type": "code",
   "execution_count": 5,
   "id": "c817f287",
   "metadata": {},
   "outputs": [
    {
     "data": {
      "image/png": "[encoded data removed]",
      "text/plain": [
       "<Figure size 640x480 with 1 Axes>"
      ]
     },
     "metadata": {},
     "output_type": "display_data"
    }
   ],
   "source": [
    "import matplotlib.pyplot as plt\n",
    "\n",
    "comment_len = [len(c) for c,s in comments]\n",
    "plt.hist(comment_len, bins=100)\n",
    "plt.show()"
   ]
  },
  {
   "cell_type": "code",
   "execution_count": 6,
   "id": "926099df",
   "metadata": {},
   "outputs": [
    {
     "data": {
      "text/plain": [
       "<function matplotlib.pyplot.show(close=None, block=None)>"
      ]
     },
     "execution_count": 6,
     "metadata": {},
     "output_type": "execute_result"
    },
    {
     "data": {
      "image/png": "[encoded data removed]",
      "text/plain": [
       "<Figure size 640x480 with 1 Axes>"
      ]
     },
     "metadata": {},
     "output_type": "display_data"
    }
   ],
   "source": [
    "plt.boxplot(comment_len)\n",
    "plt.show"
   ]
  },
  {
   "cell_type": "code",
   "execution_count": 13,
   "id": "4b6661c1",
   "metadata": {},
   "outputs": [
    {
     "data": {
      "text/plain": [
       "[' ',\n",
       " '非常',\n",
       " '失望',\n",
       " '，',\n",
       " '剧本',\n",
       " '完全',\n",
       " '敷衍了事',\n",
       " '，',\n",
       " '主线',\n",
       " '剧情',\n",
       " '没',\n",
       " '突破',\n",
       " '大家',\n",
       " '可以',\n",
       " '理解',\n",
       " '，',\n",
       " '可',\n",
       " '所有',\n",
       " '的',\n",
       " '人物',\n",
       " '都',\n",
       " '缺乏',\n",
       " '动机',\n",
       " '，',\n",
       " '正邪',\n",
       " '之间',\n",
       " '、',\n",
       " '妇联',\n",
       " '内部',\n",
       " '都',\n",
       " '没什么',\n",
       " '火花',\n",
       " '。',\n",
       " '团结',\n",
       " '-',\n",
       " '分裂',\n",
       " '-',\n",
       " '团结',\n",
       " '的',\n",
       " '三段式',\n",
       " '虽然',\n",
       " '老套',\n",
       " '但',\n",
       " '其实',\n",
       " '也',\n",
       " '可以',\n",
       " '利用',\n",
       " '积攒',\n",
       " '下来',\n",
       " '的',\n",
       " '形象',\n",
       " '魅力',\n",
       " '搞',\n",
       " '出',\n",
       " '意思',\n",
       " '，',\n",
       " '但',\n",
       " '剧本',\n",
       " '写得',\n",
       " '非常',\n",
       " '肤浅',\n",
       " '、',\n",
       " '平面',\n",
       " '。',\n",
       " '场面',\n",
       " '上',\n",
       " '调度',\n",
       " '混乱',\n",
       " '呆板',\n",
       " '，',\n",
       " '满屏',\n",
       " '的',\n",
       " '铁甲',\n",
       " '审美疲劳',\n",
       " '。',\n",
       " '只有',\n",
       " '笑',\n",
       " '点算',\n",
       " '得',\n",
       " '上',\n",
       " '差强人意',\n",
       " '。']"
      ]
     },
     "execution_count": 13,
     "metadata": {},
     "output_type": "execute_result"
    }
   ],
   "source": [
    "comments = [c for c in comments if len(c[0]) in range(10, 160)]\n",
    "len(comments)\n",
    "comments[0][0]\n"
   ]
  },
  {
   "cell_type": "code",
   "execution_count": 11,
   "id": "0222d2cf",
   "metadata": {},
   "outputs": [],
   "source": [
    "import pickle\n",
    "\n",
    "with open('./data/comments.pkl', 'wb') as f:\n",
    "    pickle.dump(comments, f)"
   ]
  }
 ],
 "metadata": {
  "kernelspec": {
   "display_name": "py312",
   "language": "python",
   "name": "python3"
  },
  "language_info": {
   "codemirror_mode": {
    "name": "ipython",
    "version": 3
   },
   "file_extension": ".py",
   "mimetype": "text/x-python",
   "name": "python",
   "nbconvert_exporter": "python",
   "pygments_lexer": "ipython3",
   "version": "3.12.8"
  }
 },
 "nbformat": 4,
 "nbformat_minor": 5
}

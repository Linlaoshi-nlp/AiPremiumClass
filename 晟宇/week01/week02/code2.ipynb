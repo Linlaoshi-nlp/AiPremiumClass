{
 "cells": [
  {
   "cell_type": "code",
   "execution_count": 19,
   "metadata": {},
   "outputs": [],
   "source": [
    "from sklearn.datasets import make_classification\n",
    "from sklearn.model_selection import train_test_split\n",
    "from sklearn.datasets import load_iris\n",
    "import numpy as np\n",
    "import matplotlib.pyplot as plt"
   ]
  },
  {
   "cell_type": "code",
   "execution_count": 20,
   "metadata": {},
   "outputs": [
    {
     "name": "stdout",
     "output_type": "stream",
     "text": [
      "[[5.1 3.5 1.4 0.2]\n",
      " [4.9 3.  1.4 0.2]\n",
      " [4.7 3.2 1.3 0.2]\n",
      " [4.6 3.1 1.5 0.2]\n",
      " [5.  3.6 1.4 0.2]\n",
      " [5.4 3.9 1.7 0.4]\n",
      " [4.6 3.4 1.4 0.3]\n",
      " [5.  3.4 1.5 0.2]\n",
      " [4.4 2.9 1.4 0.2]\n",
      " [4.9 3.1 1.5 0.1]\n",
      " [5.4 3.7 1.5 0.2]\n",
      " [4.8 3.4 1.6 0.2]\n",
      " [4.8 3.  1.4 0.1]\n",
      " [4.3 3.  1.1 0.1]\n",
      " [5.8 4.  1.2 0.2]\n",
      " [5.7 4.4 1.5 0.4]\n",
      " [5.4 3.9 1.3 0.4]\n",
      " [5.1 3.5 1.4 0.3]\n",
      " [5.7 3.8 1.7 0.3]\n",
      " [5.1 3.8 1.5 0.3]\n",
      " [5.4 3.4 1.7 0.2]\n",
      " [5.1 3.7 1.5 0.4]\n",
      " [4.6 3.6 1.  0.2]\n",
      " [5.1 3.3 1.7 0.5]\n",
      " [4.8 3.4 1.9 0.2]\n",
      " [5.  3.  1.6 0.2]\n",
      " [5.  3.4 1.6 0.4]\n",
      " [5.2 3.5 1.5 0.2]\n",
      " [5.2 3.4 1.4 0.2]\n",
      " [4.7 3.2 1.6 0.2]\n",
      " [4.8 3.1 1.6 0.2]\n",
      " [5.4 3.4 1.5 0.4]\n",
      " [5.2 4.1 1.5 0.1]\n",
      " [5.5 4.2 1.4 0.2]\n",
      " [4.9 3.1 1.5 0.2]\n",
      " [5.  3.2 1.2 0.2]\n",
      " [5.5 3.5 1.3 0.2]\n",
      " [4.9 3.6 1.4 0.1]\n",
      " [4.4 3.  1.3 0.2]\n",
      " [5.1 3.4 1.5 0.2]\n",
      " [5.  3.5 1.3 0.3]\n",
      " [4.5 2.3 1.3 0.3]\n",
      " [4.4 3.2 1.3 0.2]\n",
      " [5.  3.5 1.6 0.6]\n",
      " [5.1 3.8 1.9 0.4]\n",
      " [4.8 3.  1.4 0.3]\n",
      " [5.1 3.8 1.6 0.2]\n",
      " [4.6 3.2 1.4 0.2]\n",
      " [5.3 3.7 1.5 0.2]\n",
      " [5.  3.3 1.4 0.2]\n",
      " [7.  3.2 4.7 1.4]\n",
      " [6.4 3.2 4.5 1.5]\n",
      " [6.9 3.1 4.9 1.5]\n",
      " [5.5 2.3 4.  1.3]\n",
      " [6.5 2.8 4.6 1.5]\n",
      " [5.7 2.8 4.5 1.3]\n",
      " [6.3 3.3 4.7 1.6]\n",
      " [4.9 2.4 3.3 1. ]\n",
      " [6.6 2.9 4.6 1.3]\n",
      " [5.2 2.7 3.9 1.4]\n",
      " [5.  2.  3.5 1. ]\n",
      " [5.9 3.  4.2 1.5]\n",
      " [6.  2.2 4.  1. ]\n",
      " [6.1 2.9 4.7 1.4]\n",
      " [5.6 2.9 3.6 1.3]\n",
      " [6.7 3.1 4.4 1.4]\n",
      " [5.6 3.  4.5 1.5]\n",
      " [5.8 2.7 4.1 1. ]\n",
      " [6.2 2.2 4.5 1.5]\n",
      " [5.6 2.5 3.9 1.1]\n",
      " [5.9 3.2 4.8 1.8]\n",
      " [6.1 2.8 4.  1.3]\n",
      " [6.3 2.5 4.9 1.5]\n",
      " [6.1 2.8 4.7 1.2]\n",
      " [6.4 2.9 4.3 1.3]\n",
      " [6.6 3.  4.4 1.4]\n",
      " [6.8 2.8 4.8 1.4]\n",
      " [6.7 3.  5.  1.7]\n",
      " [6.  2.9 4.5 1.5]\n",
      " [5.7 2.6 3.5 1. ]\n",
      " [5.5 2.4 3.8 1.1]\n",
      " [5.5 2.4 3.7 1. ]\n",
      " [5.8 2.7 3.9 1.2]\n",
      " [6.  2.7 5.1 1.6]\n",
      " [5.4 3.  4.5 1.5]\n",
      " [6.  3.4 4.5 1.6]\n",
      " [6.7 3.1 4.7 1.5]\n",
      " [6.3 2.3 4.4 1.3]\n",
      " [5.6 3.  4.1 1.3]\n",
      " [5.5 2.5 4.  1.3]\n",
      " [5.5 2.6 4.4 1.2]\n",
      " [6.1 3.  4.6 1.4]\n",
      " [5.8 2.6 4.  1.2]\n",
      " [5.  2.3 3.3 1. ]\n",
      " [5.6 2.7 4.2 1.3]\n",
      " [5.7 3.  4.2 1.2]\n",
      " [5.7 2.9 4.2 1.3]\n",
      " [6.2 2.9 4.3 1.3]\n",
      " [5.1 2.5 3.  1.1]\n",
      " [5.7 2.8 4.1 1.3]]\n",
      "[0 0 0 0 0 0 0 0 0 0 0 0 0 0 0 0 0 0 0 0 0 0 0 0 0 0 0 0 0 0 0 0 0 0 0 0 0\n",
      " 0 0 0 0 0 0 0 0 0 0 0 0 0 1 1 1 1 1 1 1 1 1 1 1 1 1 1 1 1 1 1 1 1 1 1 1 1\n",
      " 1 1 1 1 1 1 1 1 1 1 1 1 1 1 1 1 1 1 1 1 1 1 1 1 1 1]\n"
     ]
    }
   ],
   "source": [
    "X,y = load_iris(return_X_y=True)\n",
    "print(X[:100])\n",
    "print(y[:100])\n",
    "X_train,X_test,y_train,y_test = train_test_split(X[:100],y[:100],test_size=0.3)"
   ]
  },
  {
   "cell_type": "code",
   "execution_count": 21,
   "metadata": {},
   "outputs": [
    {
     "name": "stdout",
     "output_type": "stream",
     "text": [
      "(70, 4)\n",
      "(30, 4)\n"
     ]
    }
   ],
   "source": [
    "print(X_train.shape)\n",
    "print(X_test.shape)"
   ]
  },
  {
   "cell_type": "code",
   "execution_count": 22,
   "metadata": {},
   "outputs": [],
   "source": [
    "theta = np.random.rand(1,4)\n",
    "bias = 0\n",
    "lr = 1e-4\n",
    "epochs = 3000\n",
    "\n"
   ]
  },
  {
   "cell_type": "code",
   "execution_count": 23,
   "metadata": {},
   "outputs": [
    {
     "name": "stdout",
     "output_type": "stream",
     "text": [
      "epoch:0,loss1.3755888868430135,acc:0.5285714285714286\n",
      "epoch:100,loss0.48621257946155844,acc:0.5285714285714286\n",
      "epoch:200,loss0.3466605108604632,acc:1.0\n",
      "epoch:300,loss0.319220112623886,acc:1.0\n",
      "epoch:400,loss0.29893384556915964,acc:1.0\n",
      "epoch:500,loss0.28099134042341195,acc:1.0\n",
      "epoch:600,loss0.26492698425718236,acc:1.0\n",
      "epoch:700,loss0.2504768447063827,acc:1.0\n",
      "epoch:800,loss0.23742480201513158,acc:1.0\n",
      "epoch:900,loss0.2255894424391025,acc:1.0\n",
      "epoch:1000,loss0.2148176562776109,acc:1.0\n",
      "epoch:1100,loss0.20497964230510923,acc:1.0\n",
      "epoch:1200,loss0.19596487152679035,acc:1.0\n",
      "epoch:1300,loss0.18767881253551524,acc:1.0\n",
      "epoch:1400,loss0.18004026742946708,acc:1.0\n",
      "epoch:1500,loss0.17297919768703368,acc:1.0\n",
      "epoch:1600,loss0.16643494371484993,acc:1.0\n",
      "epoch:1700,loss0.16035476134889237,acc:1.0\n",
      "epoch:1800,loss0.15469261421594177,acc:1.0\n",
      "epoch:1900,loss0.14940817327711509,acc:1.0\n",
      "epoch:2000,loss0.14446598470637048,acc:1.0\n",
      "epoch:2100,loss0.13983477503280148,acc:1.0\n",
      "epoch:2200,loss0.1354868686268298,acc:1.0\n",
      "epoch:2300,loss0.13139769748216668,acc:1.0\n",
      "epoch:2400,loss0.12754538711114208,acc:1.0\n",
      "epoch:2500,loss0.12391040544587373,acc:1.0\n",
      "epoch:2600,loss0.12047526409041838,acc:1.0\n",
      "epoch:2700,loss0.11722426323143245,acc:1.0\n",
      "epoch:2800,loss0.11414327309005745,acc:1.0\n",
      "epoch:2900,loss0.11121954606642467,acc:1.0\n"
     ]
    },
    {
     "data": {
      "image/png": "[encoded data removed]",
      "text/plain": [
       "<Figure size 640x480 with 1 Axes>"
      ]
     },
     "metadata": {},
     "output_type": "display_data"
    }
   ],
   "source": [
    "def forward(x,theta,bias):\n",
    "    # 前向传播\n",
    "    z = np.dot(theta,x.T)+bias\n",
    "    # 激活函数\n",
    "    y_hat = 1/(1+np.exp(-z))\n",
    "    return y_hat\n",
    "# 损失函数\n",
    "def loss(y,y_hat):\n",
    "    e = 1e-8\n",
    "    return -np.mean(y*np.log(y_hat+e)+(1-y)*np.log(1-y_hat+e))\n",
    "\n",
    "# 计算梯度\n",
    "def calc_gradient(x,y,y_hat):\n",
    "    m = x.shape[-1]\n",
    "    delta_theta = np.dot((y_hat-y),x)/m\n",
    "    delta_bias = np.mean(y_hat-y)\n",
    "    return delta_theta, delta_bias\n",
    "\n",
    "# 保存训练好的参数\n",
    "def save_params(theta, bias, filename):\n",
    "    np.savez(filename, theta=theta, bias=bias)\n",
    "\n",
    "loss_history = []\n",
    "\n",
    "# 训练模型\n",
    "for i in range(epochs):\n",
    "    # 前向传播\n",
    "    y_hat = forward(X_train,theta,bias)\n",
    "    # 计算损失\n",
    "    loss_val = loss(y_train,y_hat)\n",
    "    # 记录损失值\n",
    "    loss_history.append(loss_val)\n",
    "    # 计算梯度\n",
    "    delta_theta,delta_bias = calc_gradient(X_train,y_train,y_hat)\n",
    "    # 更新参数\n",
    "    theta = theta - lr* delta_theta\n",
    "    bias = bias -lr*delta_bias\n",
    "    # 打印损失和准确率\n",
    "    if i % 100 == 0:\n",
    "        acc = np.mean(np.round(y_hat)==y_train)\n",
    "        print(f\"epoch:{i},loss{np.mean(loss_val)},acc:{acc}\")\n",
    "\n",
    "# 训练结束后，保存参数       \n",
    "save_params(theta, bias, 'trained_params.npz')\n",
    "\n",
    "\n",
    "# 加载保存的参数\n",
    "def load_params(filename):\n",
    "    params = np.load(filename)\n",
    "    theta = params['theta']\n",
    "    bias = params['bias']\n",
    "    return theta, bias\n",
    "\n",
    "# 绘制损失函数变化图\n",
    "plt.plot(loss_history,label=\"Training loss\")\n",
    "plt.xlabel(\"Epoch\")\n",
    "plt.ylabel(\"Loss\")\n",
    "plt.title(\"Loss over Epochs\")\n",
    "plt.legend()\n",
    "plt.show()\n",
    "\n",
    "        "
   ]
  },
  {
   "cell_type": "code",
   "execution_count": 31,
   "metadata": {},
   "outputs": [
    {
     "name": "stdout",
     "output_type": "stream",
     "text": [
      "[[0.15422591 0.1100232  0.11152939 0.89282031 0.12928688 0.1371538\n",
      "  0.09675775 0.08432833 0.0665024  0.08547061 0.09004454 0.95954835\n",
      "  0.91791243 0.90054676 0.86493764 0.94491891 0.11764767 0.83757717\n",
      "  0.97018091 0.07008289 0.08053904 0.06718507 0.14119723 0.94677525\n",
      "  0.11075598 0.97108135 0.08563272 0.91579513 0.93858912 0.92645853]]\n"
     ]
    }
   ],
   "source": [
    "# 加载训练好的参数\n",
    "theta, bias = load_params('trained_params.npz')\n",
    "\n",
    "# 继续使用或进行推理\n",
    "y_hat = forward(X_test, theta, bias)\n",
    "print(y_hat)"
   ]
  },
  {
   "cell_type": "code",
   "execution_count": 32,
   "metadata": {},
   "outputs": [
    {
     "name": "stdout",
     "output_type": "stream",
     "text": [
      "y:0,predict[0.]\n"
     ]
    }
   ],
   "source": [
    "idx = np.random.randint(len(X_test))\n",
    "x = X_test[idx]\n",
    "y = y_test[idx]\n",
    "\n",
    "predict = np.round(forward(x,theta,bias))\n",
    "print(f\"y:{y},predict{predict}\")"
   ]
  }
 ],
 "metadata": {
  "kernelspec": {
   "display_name": "Python 3",
   "language": "python",
   "name": "python3"
  },
  "language_info": {
   "codemirror_mode": {
    "name": "ipython",
    "version": 3
   },
   "file_extension": ".py",
   "mimetype": "text/x-python",
   "name": "python",
   "nbconvert_exporter": "python",
   "pygments_lexer": "ipython3",
   "version": "3.12.1"
  }
 },
 "nbformat": 4,
 "nbformat_minor": 2
}

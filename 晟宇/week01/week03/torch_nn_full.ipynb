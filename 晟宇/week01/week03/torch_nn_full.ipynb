{
 "cells": [
  {
   "cell_type": "markdown",
   "metadata": {},
   "source": [
    "#### pytorch fashionmnist数据集 神经网络搭建和训练"
   ]
  },
  {
   "cell_type": "code",
   "execution_count": 14,
   "metadata": {},
   "outputs": [],
   "source": [
    "# 导入必要包\n",
    "import torch\n",
    "import torch.nn as nn\n",
    "import torch.optim as optim\n",
    "from torchvision.transforms.v2 import ToTensor     # 转换图像数据为张量\n",
    "from torchvision.datasets import FashionMNIST\n",
    "from torch.utils.data import DataLoader  # 数据加载器"
   ]
  },
  {
   "cell_type": "code",
   "execution_count": 26,
   "metadata": {},
   "outputs": [],
   "source": [
    "# 定义超参数\n",
    "epochs = 10\n",
    "BATCH_SIZE = 128\n",
    "MODEL_PATH = \"fashion_mnist_model.pth\""
   ]
  },
  {
   "cell_type": "code",
   "execution_count": 28,
   "metadata": {},
   "outputs": [],
   "source": [
    "class FashionMNISTModel(nn.Module):\n",
    "    # 定义模型\n",
    "    def __init__(self):\n",
    "        super(FashionMNISTModel, self).__init__()\n",
    "        # 定义模型结构\n",
    "        self.model = nn.Sequential(\n",
    "            nn.Linear(784, 512),\n",
    "            nn.Sigmoid(),\n",
    "            nn.Linear(512, 256),\n",
    "        )\n",
    "    # 定义前向传播\n",
    "    def forward(self, x):\n",
    "        return self.model(x)"
   ]
  },
  {
   "cell_type": "code",
   "execution_count": 29,
   "metadata": {},
   "outputs": [],
   "source": [
    "# 定义训练函数\n",
    "def load_data():\n",
    "    train_data = FashionMNIST(root='./fashion_data', train=True, download=True, transform=ToTensor())\n",
    "    test_data = FashionMNIST(root='./fashion_data', train=False, download=True, transform=ToTensor())\n",
    "    train_loader = DataLoader(train_data, batch_size=BATCH_SIZE, shuffle=True)\n",
    "    test_loader = DataLoader(test_data, batch_size=BATCH_SIZE, shuffle=False)\n",
    "    return train_loader, test_loader"
   ]
  },
  {
   "cell_type": "code",
   "execution_count": 30,
   "metadata": {},
   "outputs": [],
   "source": [
    "def train_model(model, train_loader, epochs, lr):\n",
    "    # 定义损失函数和优化器\n",
    "    loss_fn = nn.CrossEntropyLoss()\n",
    "    optimizer = optim.SGD(model.parameters(), lr=lr)\n",
    "    # 训练模型\n",
    "    for epoch in range(epochs):\n",
    "        for data, target in train_loader:\n",
    "            output = model(data.view(-1, 784))\n",
    "            loss = loss_fn(output, target)\n",
    "            optimizer.zero_grad()\n",
    "            loss.backward()\n",
    "            optimizer.step()\n",
    "        print(f\"Epoch {epoch+1}/{epochs}, Loss: {loss.item():.4f}\")\n",
    "\n",
    "    # 保存模型\n",
    "    torch.save(model.state_dict(), MODEL_PATH)\n",
    "    print(\"Model saved successfully.\")"
   ]
  },
  {
   "cell_type": "code",
   "execution_count": 31,
   "metadata": {},
   "outputs": [],
   "source": [
    "def test_model(model, test_loader):\n",
    "    # 测试模型\n",
    "    model.load_state_dict(torch.load(MODEL_PATH))\n",
    "    model.eval()\n",
    "    correct = 0\n",
    "    total = 0\n",
    "    # 不计算梯度\n",
    "    with torch.no_grad():\n",
    "        for data, target in test_loader:\n",
    "            output = model(data.view(-1, 784))\n",
    "            _, predicted = torch.max(output, 1)\n",
    "            total += target.size(0)\n",
    "            correct += (predicted == target).sum().item()\n",
    "    \n",
    "    return 100* correct / total"
   ]
  },
  {
   "cell_type": "code",
   "execution_count": 32,
   "metadata": {},
   "outputs": [],
   "source": [
    "def main():\n",
    "    # 加载数据\n",
    "    train_loader, test_loader = load_data()\n",
    "    # 定义学习率\n",
    "    learning_rates = [0.01, 0.001, 0.0001]\n",
    "    # 不同学习率下的正确率\n",
    "    for lr in learning_rates:\n",
    "        print(f\"Training with learning rate: {lr}\")\n",
    "        model = FashionMNISTModel()\n",
    "        train_model(model, train_loader, epochs, lr)\n",
    "        accuracy = test_model(model, test_loader)\n",
    "        print(f\"Test Accuracy with learning rate {lr}: {accuracy:.2f}%\\n\")"
   ]
  },
  {
   "cell_type": "code",
   "execution_count": 33,
   "metadata": {},
   "outputs": [
    {
     "name": "stdout",
     "output_type": "stream",
     "text": [
      "Training with learning rate: 0.01\n",
      "Epoch 1/10, Loss: 1.8664\n",
      "Epoch 2/10, Loss: 1.3798\n",
      "Epoch 3/10, Loss: 1.2025\n",
      "Epoch 4/10, Loss: 0.9790\n",
      "Epoch 5/10, Loss: 0.8704\n",
      "Epoch 6/10, Loss: 0.8807\n",
      "Epoch 7/10, Loss: 0.7674\n",
      "Epoch 8/10, Loss: 0.7147\n",
      "Epoch 9/10, Loss: 0.7016\n",
      "Epoch 10/10, Loss: 0.6967\n",
      "Model saved successfully.\n",
      "Test Accuracy with learning rate 0.01: 75.05%\n",
      "\n",
      "Training with learning rate: 0.001\n",
      "Epoch 1/10, Loss: 2.5761\n",
      "Epoch 2/10, Loss: 2.3396\n",
      "Epoch 3/10, Loss: 2.2280\n",
      "Epoch 4/10, Loss: 2.1713\n",
      "Epoch 5/10, Loss: 2.1344\n",
      "Epoch 6/10, Loss: 2.0720\n",
      "Epoch 7/10, Loss: 2.0195\n",
      "Epoch 8/10, Loss: 1.9652\n",
      "Epoch 9/10, Loss: 1.8604\n",
      "Epoch 10/10, Loss: 1.8664\n",
      "Model saved successfully.\n",
      "Test Accuracy with learning rate 0.001: 66.01%\n",
      "\n",
      "Training with learning rate: 0.0001\n",
      "Epoch 1/10, Loss: 5.0364\n",
      "Epoch 2/10, Loss: 4.5209\n",
      "Epoch 3/10, Loss: 3.9876\n",
      "Epoch 4/10, Loss: 3.6064\n",
      "Epoch 5/10, Loss: 3.3044\n",
      "Epoch 6/10, Loss: 3.0655\n",
      "Epoch 7/10, Loss: 2.8871\n",
      "Epoch 8/10, Loss: 2.7594\n",
      "Epoch 9/10, Loss: 2.6693\n",
      "Epoch 10/10, Loss: 2.5890\n",
      "Model saved successfully.\n",
      "Test Accuracy with learning rate 0.0001: 31.71%\n",
      "\n"
     ]
    }
   ],
   "source": [
    "main()"
   ]
  }
 ],
 "metadata": {
  "kernelspec": {
   "display_name": "py39",
   "language": "python",
   "name": "python3"
  },
  "language_info": {
   "codemirror_mode": {
    "name": "ipython",
    "version": 3
   },
   "file_extension": ".py",
   "mimetype": "text/x-python",
   "name": "python",
   "nbconvert_exporter": "python",
   "pygments_lexer": "ipython3",
   "version": "3.9.21"
  }
 },
 "nbformat": 4,
 "nbformat_minor": 2
}

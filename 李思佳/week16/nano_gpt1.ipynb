{
 "cells": [
  {
   "cell_type": "code",
   "execution_count": 65,
   "metadata": {},
   "outputs": [],
   "source": [
    "with open('input.txt','r') as f:\n",
    "    text = f.read()\n",
    "\n",
    "\n",
    "\n"
   ]
  },
  {
   "cell_type": "code",
   "execution_count": 2,
   "metadata": {},
   "outputs": [
    {
     "data": {
      "text/plain": [
       "'First Citizen:\\nBefore we proceed any further, hear me speak.\\n\\nAll:\\nSpeak, speak.\\n\\nFirst Citizen:\\nYou'"
      ]
     },
     "execution_count": 2,
     "metadata": {},
     "output_type": "execute_result"
    }
   ],
   "source": [
    "text[:100]"
   ]
  },
  {
   "cell_type": "code",
   "execution_count": 77,
   "metadata": {},
   "outputs": [],
   "source": [
    "# 词典、编码器(函数)、解码器（函数）\n",
    "chars = sorted(list(set(text)))\n",
    "vacob_size = len(chars)\n",
    "stoi = {ch:i for i, ch in enumerate(chars)}\n",
    "itos = {i:ch for i, ch in enumerate(chars)}\n",
    "\n",
    "encode = lambda s: [stoi[c] for c in s]\n",
    "decode = lambda l: ''.join([itos[i] for i in l])"
   ]
  },
  {
   "cell_type": "code",
   "execution_count": 67,
   "metadata": {},
   "outputs": [],
   "source": [
    "# 文本转换为索引\n",
    "import torch\n",
    "\n",
    "data = torch.tensor(encode(text), dtype=torch.long)\n"
   ]
  },
  {
   "cell_type": "code",
   "execution_count": 68,
   "metadata": {},
   "outputs": [],
   "source": [
    "# 拆分数据集\n",
    "n = int(len(data) * 0.9)\n",
    "train_data = data[:n]\n",
    "val_data = data[n:]"
   ]
  },
  {
   "cell_type": "code",
   "execution_count": 69,
   "metadata": {},
   "outputs": [
    {
     "name": "stdout",
     "output_type": "stream",
     "text": [
      "tensor([18, 47, 56, 57, 58,  1, 15, 47])\n",
      "tensor([47, 56, 57, 58,  1, 15, 47, 58])\n",
      "输入内容：tensor([18]), 预测的目标：47\n",
      "输入内容：tensor([18, 47]), 预测的目标：56\n",
      "输入内容：tensor([18, 47, 56]), 预测的目标：57\n",
      "输入内容：tensor([18, 47, 56, 57]), 预测的目标：58\n",
      "输入内容：tensor([18, 47, 56, 57, 58]), 预测的目标：1\n",
      "输入内容：tensor([18, 47, 56, 57, 58,  1]), 预测的目标：15\n",
      "输入内容：tensor([18, 47, 56, 57, 58,  1, 15]), 预测的目标：47\n",
      "输入内容：tensor([18, 47, 56, 57, 58,  1, 15, 47]), 预测的目标：58\n"
     ]
    }
   ],
   "source": [
    "# 训练文本采样长度（演示）\n",
    "block_size = 8\n",
    "x = train_data[:block_size]\n",
    "y = train_data[1:block_size+1]\n",
    "print(x)\n",
    "print(y)\n",
    "for t in range(block_size):\n",
    "    context = x[:t+1]\n",
    "    target = y[t]\n",
    "    print(f'输入内容：{context}, 预测的目标：{target}')\n"
   ]
  },
  {
   "cell_type": "code",
   "execution_count": 70,
   "metadata": {},
   "outputs": [],
   "source": [
    "# torch.manual_seed(1337)  #随机数种子，仅实验复现实验场景和结果使用\n",
    "# 模型的训练数据集\n",
    "block_size = 8\n",
    "batch_size = 4\n",
    "\n",
    "# 动态从数据集中选择位置索引\n",
    "# ix\n",
    "\n",
    "def get_batch(split):\n",
    "    # 选择数据集或者验证集\n",
    "    data = train_data if split == 'train' else val_data\n",
    "\n",
    "    ix = torch.randint(len(train_data) - block_size, (batch_size, ) ) #【0， 103846】随机生成位置索引，向后截取block_size字符巡检\n",
    "    x = torch.stack([train_data[i:i+block_size] for i in ix])\n",
    "    y = torch.stack([train_data[i+1:i+block_size+1] for i in ix])\n",
    "    return x, y\n"
   ]
  },
  {
   "cell_type": "code",
   "execution_count": 71,
   "metadata": {},
   "outputs": [
    {
     "data": {
      "text/plain": [
       "(tensor([[58, 46, 47, 57,  1, 58, 56, 53],\n",
       "         [53, 56,  1, 58, 46, 39, 58,  1],\n",
       "         [ 1, 58, 46, 53, 59,  6,  1, 49],\n",
       "         [52, 45, 43, 50, 53,  1, 47, 57]]),\n",
       " tensor([[46, 47, 57,  1, 58, 56, 53, 59],\n",
       "         [56,  1, 58, 46, 39, 58,  1, 21],\n",
       "         [58, 46, 53, 59,  6,  1, 49, 43],\n",
       "         [45, 43, 50, 53,  1, 47, 57,  1]]))"
      ]
     },
     "execution_count": 71,
     "metadata": {},
     "output_type": "execute_result"
    }
   ],
   "source": [
    "get_batch('train')"
   ]
  },
  {
   "cell_type": "code",
   "execution_count": 72,
   "metadata": {},
   "outputs": [
    {
     "name": "stdout",
     "output_type": "stream",
     "text": [
      "输入内容：tensor([39]), 预测的目标：60\n",
      "输入内容：tensor([39, 60]), 预测的目标：43\n",
      "输入内容：tensor([39, 60, 43]), 预测的目标：1\n",
      "输入内容：tensor([39, 60, 43,  1]), 预测的目标：51\n",
      "输入内容：tensor([39, 60, 43,  1, 51]), 预测的目标：43\n",
      "输入内容：tensor([39, 60, 43,  1, 51, 43]), 预测的目标：0\n",
      "输入内容：tensor([39, 60, 43,  1, 51, 43,  0]), 预测的目标：39\n",
      "输入内容：tensor([39, 60, 43,  1, 51, 43,  0, 39]), 预测的目标：61\n",
      "输入内容：tensor([15]), 预测的目标：21\n",
      "输入内容：tensor([15, 21]), 预测的目标：27\n",
      "输入内容：tensor([15, 21, 27]), 预测的目标：10\n",
      "输入内容：tensor([15, 21, 27, 10]), 预测的目标：0\n",
      "输入内容：tensor([15, 21, 27, 10,  0]), 预测的目标：13\n",
      "输入内容：tensor([15, 21, 27, 10,  0, 13]), 预测的目标：61\n",
      "输入内容：tensor([15, 21, 27, 10,  0, 13, 61]), 预测的目标：39\n",
      "输入内容：tensor([15, 21, 27, 10,  0, 13, 61, 39]), 预测的目标：63\n",
      "输入内容：tensor([47]), 预测的目标：50\n",
      "输入内容：tensor([47, 50]), 预测的目标：50\n",
      "输入内容：tensor([47, 50, 50]), 预测的目标：5\n",
      "输入内容：tensor([47, 50, 50,  5]), 预测的目标：58\n",
      "输入内容：tensor([47, 50, 50,  5, 58]), 预测的目标：1\n",
      "输入内容：tensor([47, 50, 50,  5, 58,  1]), 预测的目标：54\n",
      "输入内容：tensor([47, 50, 50,  5, 58,  1, 54]), 预测的目标：50\n",
      "输入内容：tensor([47, 50, 50,  5, 58,  1, 54, 50]), 预测的目标：43\n",
      "输入内容：tensor([1]), 预测的目标：45\n",
      "输入内容：tensor([ 1, 45]), 预测的目标：56\n",
      "输入内容：tensor([ 1, 45, 56]), 预测的目标：47\n",
      "输入内容：tensor([ 1, 45, 56, 47]), 预测的目标：43\n",
      "输入内容：tensor([ 1, 45, 56, 47, 43]), 预测的目标：44\n",
      "输入内容：tensor([ 1, 45, 56, 47, 43, 44]), 预测的目标：1\n",
      "输入内容：tensor([ 1, 45, 56, 47, 43, 44,  1]), 预测的目标：61\n",
      "输入内容：tensor([ 1, 45, 56, 47, 43, 44,  1, 61]), 预测的目标：43\n"
     ]
    }
   ],
   "source": [
    "x, y = get_batch('train')\n",
    "x.shape\n",
    "y.shape\n",
    "\n",
    "for b in range(batch_size):\n",
    "    for t in range(block_size):\n",
    "        context = x[b, :t+1]\n",
    "        target = y[b, t]\n",
    "        print(f'输入内容：{context}, 预测的目标：{target}')"
   ]
  },
  {
   "cell_type": "code",
   "execution_count": 73,
   "metadata": {},
   "outputs": [],
   "source": [
    "import torch\n",
    "import torch.nn as nn\n",
    "from torch.nn import functional as F\n",
    "torch.manual_seed(1337)\n",
    "# 2-gram\n",
    "class BingramLanguageModel(nn.Module):\n",
    " \n",
    "    def __init__(self, vocab_size):\n",
    "        super().__init__()\n",
    "        # 每个token都直接从Embedding中查询对应的logits值 以进⾏下⼀个token的推理\n",
    "        self.token_embedding_table = nn.Embedding(vocab_size, vocab_size)\n",
    "        \n",
    "    def forward(self, idx, targets=None):\n",
    "    \n",
    "        # idx值和targets值都是整型张量 (B,T)\n",
    "        logits = self.token_embedding_table(idx) # (B,T,C)\n",
    "    \n",
    "        if targets is None:\n",
    "            loss = None\n",
    "        else:\n",
    "            B, T, C = logits.shape\n",
    "            logits = logits.view(B*T, C)\n",
    "            targets = targets.view(-1)\n",
    "            loss = F.cross_entropy(logits, targets)\n",
    "        \n",
    "        return logits, loss\n",
    "    \n",
    "    def generate(self, idx, max_new_tokens):\n",
    "        # idx (B,T) 数组对应着当前的输⼊内容 [1,1]\n",
    "        for _ in range(max_new_tokens):\n",
    "            # 模型推理\n",
    "            logits, loss = self(idx) # (B,T) -> (1,1...100)\n",
    "            # 获取最后⼀个时间步的输出\n",
    "            logits = logits[:, -1, :] # (1,100,65) -> (1,65)\n",
    "            # 应⽤softmax转换为概率值\n",
    "            probs = F.softmax(logits, dim=-1) # (B,C)\n",
    "            # 按权重值采样，返回对应的索引\n",
    "            # idx_next = torch.argmax(probs, dim=-1)\n",
    "            # 随机采样\n",
    "            idx_next = torch.multinomial(probs,num_samples=1) # (B,1)\n",
    "            # 应⽤采样后的索引\n",
    "            idx = torch.cat((idx, idx_next), dim=1) # (B, T+1) [1,2],[1,3]... [1,max_new_tokens]\n",
    "        return idx"
   ]
  },
  {
   "cell_type": "code",
   "execution_count": 74,
   "metadata": {},
   "outputs": [
    {
     "name": "stdout",
     "output_type": "stream",
     "text": [
      "4.821393013000488\n"
     ]
    }
   ],
   "source": [
    "m = BingramLanguageModel(vacob_size)\n",
    "# 模型训练\n",
    "optimizer = torch.optim.AdamW(m.parameters(), lr=1e-3)\n",
    "\n",
    "batch_size = 32\n",
    "for step in range(1000):\n",
    "\n",
    "    xb, yb = get_batch('train')\n",
    "\n",
    "    # 推理计算损失\n",
    "    logtis, loss = m(xb, yb)\n",
    "    optimizer.step()\n",
    "    m.zero_grad(set_to_none=True)\n",
    "\n",
    "print(loss.item())\n",
    "\n",
    "# 模型生成"
   ]
  },
  {
   "cell_type": "code",
   "execution_count": 75,
   "metadata": {},
   "outputs": [
    {
     "name": "stdout",
     "output_type": "stream",
     "text": [
      "\n",
      "SlKvi-Id?QMckhsc; dcBDWgHLWvvHP zoSBl.RTxIW\n",
      "r3fqH$srJlTr'qpJjJ!XJASBNpHOYIdQY:livviAcLnpQ!!UzMERFcH?Yh;;Sq.f uslI'TnA\n",
      "rwgOj$dhPWr,SV?hsujmKpgXXUh;ApmzkHd?hESX&GT;TrJgkiF-oKbXC'A -bnlyNLECHAUQkgCCZM;Tb-gHC-I'td!:wLlHAcPD'bA-.:M.ZtOptXEQcL?hfaoiqbPd?ObPnQQJMs&$aopupIBfGJsZaI'ottlfo..k$W$Akp?yl?ajKlzY!lx&QQLW? tSbXFkyhl-LCVsHUEcOdln$SClgjuk:3Iv\n",
      "?OqlrV;!PL,fzgyYh\n",
      "pmRjXSQ&xk!$\n",
      "o,SiqmZJgKuDny,S$E$fYQGSV-ivvKcOvi-nQGX&q-YQbm dEZJXx;Akr-I&yZ&-wIWcd\n",
      "RFgXTpDUgM:CK$I!uo'IBT -\n",
      "j?wfyxqVr.&fiqtRS.ZttxQhOKG'dg\n"
     ]
    }
   ],
   "source": [
    "# 模型推理\n",
    "\n",
    "token_idx = torch.zeros((1,1), dtype=torch.long)\n",
    "\n",
    "result = m.generate(token_idx, 500)\n",
    "print(decode(result[0].tolist()))"
   ]
  },
  {
   "cell_type": "code",
   "execution_count": 14,
   "metadata": {},
   "outputs": [
    {
     "data": {
      "text/plain": [
       "tensor([18, 47, 56, 57, 58,  1, 15, 47, 58, 47, 64, 43, 52, 10,  0, 14, 43, 44,\n",
       "        53, 56, 43,  1, 61, 43,  1, 54, 56, 53, 41, 43, 43, 42,  1, 39, 52, 63,\n",
       "         1, 44, 59, 56, 58, 46, 43, 56,  6,  1, 46, 43, 39, 56,  1, 51, 43,  1,\n",
       "        57, 54, 43, 39, 49,  8,  0,  0, 13, 50, 50, 10,  0, 31, 54, 43, 39, 49,\n",
       "         6,  1, 57, 54, 43, 39, 49,  8,  0,  0, 18, 47, 56, 57, 58,  1, 15, 47,\n",
       "        58, 47, 64, 43, 52, 10,  0, 37, 53, 59])"
      ]
     },
     "execution_count": 14,
     "metadata": {},
     "output_type": "execute_result"
    }
   ],
   "source": [
    "data[:100]"
   ]
  },
  {
   "cell_type": "code",
   "execution_count": 11,
   "metadata": {},
   "outputs": [
    {
     "data": {
      "text/plain": [
       "'you'"
      ]
     },
     "execution_count": 11,
     "metadata": {},
     "output_type": "execute_result"
    }
   ],
   "source": [
    "# 单词 -》 token index\n",
    "encode('you')\n",
    "decode([63, 53, 59])"
   ]
  },
  {
   "cell_type": "code",
   "execution_count": 8,
   "metadata": {},
   "outputs": [
    {
     "data": {
      "text/plain": [
       "{0: '\\n',\n",
       " 1: ' ',\n",
       " 2: '!',\n",
       " 3: '$',\n",
       " 4: '&',\n",
       " 5: \"'\",\n",
       " 6: ',',\n",
       " 7: '-',\n",
       " 8: '.',\n",
       " 9: '3',\n",
       " 10: ':',\n",
       " 11: ';',\n",
       " 12: '?',\n",
       " 13: 'A',\n",
       " 14: 'B',\n",
       " 15: 'C',\n",
       " 16: 'D',\n",
       " 17: 'E',\n",
       " 18: 'F',\n",
       " 19: 'G',\n",
       " 20: 'H',\n",
       " 21: 'I',\n",
       " 22: 'J',\n",
       " 23: 'K',\n",
       " 24: 'L',\n",
       " 25: 'M',\n",
       " 26: 'N',\n",
       " 27: 'O',\n",
       " 28: 'P',\n",
       " 29: 'Q',\n",
       " 30: 'R',\n",
       " 31: 'S',\n",
       " 32: 'T',\n",
       " 33: 'U',\n",
       " 34: 'V',\n",
       " 35: 'W',\n",
       " 36: 'X',\n",
       " 37: 'Y',\n",
       " 38: 'Z',\n",
       " 39: 'a',\n",
       " 40: 'b',\n",
       " 41: 'c',\n",
       " 42: 'd',\n",
       " 43: 'e',\n",
       " 44: 'f',\n",
       " 45: 'g',\n",
       " 46: 'h',\n",
       " 47: 'i',\n",
       " 48: 'j',\n",
       " 49: 'k',\n",
       " 50: 'l',\n",
       " 51: 'm',\n",
       " 52: 'n',\n",
       " 53: 'o',\n",
       " 54: 'p',\n",
       " 55: 'q',\n",
       " 56: 'r',\n",
       " 57: 's',\n",
       " 58: 't',\n",
       " 59: 'u',\n",
       " 60: 'v',\n",
       " 61: 'w',\n",
       " 62: 'x',\n",
       " 63: 'y',\n",
       " 64: 'z'}"
      ]
     },
     "execution_count": 8,
     "metadata": {},
     "output_type": "execute_result"
    }
   ],
   "source": [
    "itos"
   ]
  },
  {
   "cell_type": "code",
   "execution_count": 63,
   "metadata": {},
   "outputs": [
    {
     "data": {
      "text/plain": [
       "tensor([[1.0000, 0.0000, 0.0000, 0.0000],\n",
       "        [0.7685, 0.2315, 0.0000, 0.0000],\n",
       "        [0.1005, 0.7768, 0.1228, 0.0000],\n",
       "        [0.1467, 0.5614, 0.2325, 0.0594]])"
      ]
     },
     "execution_count": 63,
     "metadata": {},
     "output_type": "execute_result"
    }
   ],
   "source": [
    "import torch\n",
    "import torch.nn.functional as F\n",
    "torch.manual_seed(1771)\n",
    "wei = torch.randn((4,4))\n",
    "tril = torch.tril(torch.ones(4,4))\n",
    "wei = wei.masked_fill(tril == 0, float('-inf'))\n",
    "wei = F.softmax(wei, dim=-1)\n",
    "wei"
   ]
  }
 ],
 "metadata": {
  "kernelspec": {
   "display_name": "py312",
   "language": "python",
   "name": "python3"
  },
  "language_info": {
   "codemirror_mode": {
    "name": "ipython",
    "version": 3
   },
   "file_extension": ".py",
   "mimetype": "text/x-python",
   "name": "python",
   "nbconvert_exporter": "python",
   "pygments_lexer": "ipython3",
   "version": "3.12.9"
  }
 },
 "nbformat": 4,
 "nbformat_minor": 2
}

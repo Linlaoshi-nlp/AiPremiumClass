{
 "cells": [
  {
   "cell_type": "code",
   "execution_count": 3,
   "metadata": {},
   "outputs": [],
   "source": [
    "#  使用自定义的文档文本，通过fasttext训练word2vec训练词向量模型，并计算词汇间的相关度。\n",
    "# （尝试tensorboard绘制词向量可视化图）"
   ]
  },
  {
   "cell_type": "code",
   "execution_count": 4,
   "metadata": {},
   "outputs": [],
   "source": [
    "# 导包\n",
    "import jieba\n",
    "import fasttext\n",
    "import os.path as os\n",
    "import torch\n",
    "from torch.utils.tensorboard import SummaryWriter"
   ]
  },
  {
   "cell_type": "code",
   "execution_count": 5,
   "metadata": {},
   "outputs": [],
   "source": [
    "def get_comments_file(oldFile, newFile):\n",
    "    # 文档分词器\n",
    "    tokenizer = lambda x: jieba.lcut(x)\n",
    "\n",
    "    # 加载原文档\n",
    "    with open(oldFile, 'r', encoding='utf-8') as f:\n",
    "        text = f.read()\n",
    "    # 分词\n",
    "    words = tokenizer(text)\n",
    "    # 保存分词后的文档\n",
    "    with open(newFile, 'w', encoding='utf-8') as f:\n",
    "        for word in words:\n",
    "            f.write(word + ' ')"
   ]
  },
  {
   "cell_type": "code",
   "execution_count": 6,
   "metadata": {},
   "outputs": [
    {
     "name": "stdout",
     "output_type": "stream",
     "text": [
      "黛玉的近似词：[(0.4779816269874573, '黛玉来'), (0.4568304121494293, '和黛玉'), (0.43497174978256226, '见黛玉'), (0.42635077238082886, '黛玉见'), (0.4196794629096985, '宝钗'), (0.4122893512248993, '黛玉忙'), (0.41128337383270264, '宝玉'), (0.4035329222679138, '黛玉因'), (0.40101882815361023, '宝钗来'), (0.40032148361206055, '向黛玉')]\n",
      "宝玉的近似词：[(0.5280993580818176, '。'), (0.5150509476661682, '，'), (0.4845907986164093, '了'), (0.46670985221862793, '”'), (0.46418628096580505, '袭人'), (0.45743152499198914, '笑'), (0.4502829313278198, '你'), (0.43950289487838745, '：'), (0.43924883008003235, '说'), (0.4354904592037201, '“')]\n",
      "宝钗的近似词：[(0.5118346810340881, '宝钗方'), (0.5078913569450378, '宝钗来'), (0.4707845151424408, '宝钗心'), (0.46038201451301575, '宝钗正'), (0.4363897442817688, '宝钗姊妹'), (0.42999184131622314, '宝钗见'), (0.42250800132751465, '宝钗忙'), (0.41997650265693665, '见宝钗'), (0.4196794033050537, '黛玉'), (0.4190636873245239, '宝钗进')]\n"
     ]
    }
   ],
   "source": [
    "# 1、分词\n",
    "oldFile = \"红楼梦.txt\"\n",
    "newFile = \"hongloumeng.txt\"\n",
    "if not os.exists(newFile):\n",
    "    get_comments_file(oldFile, newFile)\n",
    "\n",
    "# 2、训练模型\n",
    "model = fasttext.train_unsupervised(newFile, epoch=20, dim=300)\n",
    "\n",
    "# 3、计算相似度\n",
    "print(f\"黛玉的近似词：{model.get_nearest_neighbors('黛玉')}\")\n",
    "print(f\"宝玉的近似词：{model.get_nearest_neighbors('宝玉')}\")\n",
    "print(f\"宝钗的近似词：{model.get_nearest_neighbors('宝钗')}\")"
   ]
  },
  {
   "cell_type": "code",
   "execution_count": 7,
   "metadata": {},
   "outputs": [
    {
     "name": "stderr",
     "output_type": "stream",
     "text": [
      "C:\\Users\\uchonor\\AppData\\Local\\Temp\\ipykernel_25848\\3776471533.py:8: UserWarning: Creating a tensor from a list of numpy.ndarrays is extremely slow. Please consider converting the list to a single numpy.ndarray with numpy.array() before converting to a tensor. (Triggered internally at C:\\actions-runner\\_work\\pytorch\\pytorch\\pytorch\\torch\\csrc\\utils\\tensor_new.cpp:257.)\n",
      "  writer.add_embedding(torch.tensor(embeddings), metadata=meta_data)\n"
     ]
    }
   ],
   "source": [
    "# 词向量可视化\n",
    "writer = SummaryWriter()\n",
    "meta_data = model.words\n",
    "embeddings = []\n",
    "for word in meta_data:\n",
    "    embeddings.append(model.get_word_vector(word))\n",
    "\n",
    "writer.add_embedding(torch.tensor(embeddings), metadata=meta_data)"
   ]
  }
 ],
 "metadata": {
  "kernelspec": {
   "display_name": "py312",
   "language": "python",
   "name": "python3"
  },
  "language_info": {
   "codemirror_mode": {
    "name": "ipython",
    "version": 3
   },
   "file_extension": ".py",
   "mimetype": "text/x-python",
   "name": "python",
   "nbconvert_exporter": "python",
   "pygments_lexer": "ipython3",
   "version": "3.12.8"
  }
 },
 "nbformat": 4,
 "nbformat_minor": 2
}

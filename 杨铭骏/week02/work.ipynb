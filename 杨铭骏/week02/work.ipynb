{
 "cells": [
  {
   "cell_type": "markdown",
   "metadata": {},
   "source": [
    "# 第二周 作业"
   ]
  },
  {
   "cell_type": "markdown",
   "metadata": {},
   "source": [
    "## 1.使用sklearn数据集训练逻辑回归模型"
   ]
  },
  {
   "cell_type": "code",
   "execution_count": 19,
   "metadata": {},
   "outputs": [
    {
     "name": "stdout",
     "output_type": "stream",
     "text": [
      "(150, 4)\n"
     ]
    }
   ],
   "source": [
    "from sklearn.datasets import load_iris\n",
    "from sklearn.model_selection import train_test_split\n",
    "import numpy as np\n",
    "\n",
    "X, y = load_iris(return_X_y=True)\n",
    "print(X.shape)"
   ]
  },
  {
   "cell_type": "code",
   "execution_count": 20,
   "metadata": {},
   "outputs": [],
   "source": [
    "X = X[:100]\n",
    "y = y[:100]"
   ]
  },
  {
   "cell_type": "code",
   "execution_count": 21,
   "metadata": {},
   "outputs": [],
   "source": [
    "X_train, X_test, y_train, y_test = train_test_split(X, y, test_size=0.3)"
   ]
  },
  {
   "cell_type": "code",
   "execution_count": 22,
   "metadata": {},
   "outputs": [],
   "source": [
    "# 权重参数\n",
    "theta = np.random.randn(1, 4)\n",
    "bias = 0\n",
    "# 超参数-学习率\n",
    "lr = 0.01\n",
    "epochs = 3000 # 迭代次数"
   ]
  },
  {
   "cell_type": "code",
   "execution_count": 23,
   "metadata": {},
   "outputs": [],
   "source": [
    "# 模型计算函数\n",
    "def forward(x, theta, bias):\n",
    "    # 线性运算\n",
    "    z = np.dot(theta, x.T) + bias\n",
    "    # 激活函数 sigmoid\n",
    "    y_hat = 1 / (1 + np.exp(-z))\n",
    "    return y_hat\n",
    "\n",
    "# 损失函数\n",
    "def loss(y, y_hat):\n",
    "    e = 1e-8\n",
    "    return y * np.log(y_hat + e) + (1 - y) * np.log(1 - y_hat + e)\n",
    "\n",
    "# 梯度计算\n",
    "def gradient(x, y, y_hat):\n",
    "    m = x.shape[-1]\n",
    "    delta_theta = np.dot((y_hat - y), x) / m\n",
    "    delta_bias = np.mean(y_hat - y)\n",
    "    return delta_theta, delta_bias"
   ]
  },
  {
   "cell_type": "code",
   "execution_count": 24,
   "metadata": {},
   "outputs": [
    {
     "name": "stdout",
     "output_type": "stream",
     "text": [
      "epoch 0, loss -5.4251679482761075\n",
      "epoch 100, loss -0.04444779153727488\n",
      "epoch 200, loss -0.022586495057392096\n",
      "epoch 300, loss -0.015426708311732353\n",
      "epoch 400, loss -0.011824848695305928\n",
      "epoch 500, loss -0.009640920019046512\n",
      "epoch 600, loss -0.008168478519477619\n",
      "epoch 700, loss -0.007105072634149059\n",
      "epoch 800, loss -0.006299104245385783\n",
      "epoch 900, loss -0.005666009274197884\n",
      "epoch 1000, loss -0.005154803352732994\n",
      "epoch 1100, loss -0.004732872942268587\n",
      "epoch 1200, loss -0.004378359458913729\n",
      "epoch 1300, loss -0.004076048919437945\n",
      "epoch 1400, loss -0.0038150165467508647\n",
      "epoch 1500, loss -0.0035872091084205044\n",
      "epoch 1600, loss -0.00338655593529557\n",
      "epoch 1700, loss -0.003208391724157431\n",
      "epoch 1800, loss -0.003049070397172498\n",
      "epoch 1900, loss -0.0029056999736674105\n",
      "epoch 2000, loss -0.0027759563304447453\n",
      "epoch 2100, loss -0.0026579497107292287\n",
      "epoch 2200, loss -0.0025501273055738485\n",
      "epoch 2300, loss -0.002451201004152404\n",
      "epoch 2400, loss -0.002360093025079382\n",
      "epoch 2500, loss -0.0022758944601160964\n",
      "epoch 2600, loss -0.0021978332814716972\n",
      "epoch 2700, loss -0.0021252493794635743\n",
      "epoch 2800, loss -0.0020575748880159654\n",
      "epoch 2900, loss -0.0019943185329313767\n"
     ]
    }
   ],
   "source": [
    "# 模型训练\n",
    "for i in range(epochs):\n",
    "    # 前向计算\n",
    "    y_hat = forward(X_train, theta, bias)\n",
    "    # 计算损失\n",
    "    l = loss(y_train, y_hat)\n",
    "    # 计算梯度\n",
    "    delta_theta, delta_bias = gradient(X_train, y_train, y_hat)\n",
    "    # 更新参数\n",
    "    theta -= lr * delta_theta\n",
    "    bias -= lr * delta_bias\n",
    "    if i % 100 == 0:\n",
    "        print(f'epoch {i}, loss {np.mean(l)}') "
   ]
  },
  {
   "cell_type": "code",
   "execution_count": 28,
   "metadata": {},
   "outputs": [
    {
     "name": "stdout",
     "output_type": "stream",
     "text": [
      "y: 0, predict: [0.]\n"
     ]
    }
   ],
   "source": [
    "# 模型推理\n",
    "idx = np.random.randint(len(X_test))\n",
    "x = X_test[idx]\n",
    "y = y_test[idx]\n",
    "predict = np.round(forward(x, theta, bias))\n",
    "print(f'y: {y}, predict: {predict}')\n",
    "\n"
   ]
  },
  {
   "cell_type": "markdown",
   "metadata": {},
   "source": [
    "## 2.调整学习率，样本数据拆分比率，观察训练结果；\n"
   ]
  },
  {
   "cell_type": "code",
   "execution_count": 29,
   "metadata": {},
   "outputs": [],
   "source": [
    "lr = 0.1"
   ]
  },
  {
   "cell_type": "code",
   "execution_count": 30,
   "metadata": {},
   "outputs": [
    {
     "name": "stdout",
     "output_type": "stream",
     "text": [
      "epoch 0, loss -0.0019350530728572042\n",
      "epoch 100, loss -0.0014974712617710185\n",
      "epoch 200, loss -0.0012272990759626449\n",
      "epoch 300, loss -0.0010429752489183196\n",
      "epoch 400, loss -0.000908748239393437\n",
      "epoch 500, loss -0.0008063978590299138\n",
      "epoch 600, loss -0.0007256329587433714\n",
      "epoch 700, loss -0.0006601881155818504\n",
      "epoch 800, loss -0.0006060239138900122\n",
      "epoch 900, loss -0.0005604154978128373\n",
      "epoch 1000, loss -0.0005214560643744021\n",
      "epoch 1100, loss -0.0004877701183128751\n",
      "epoch 1200, loss -0.00045833973480430507\n",
      "epoch 1300, loss -0.0004323949854156507\n",
      "epoch 1400, loss -0.00040934243634278654\n",
      "epoch 1500, loss -0.00038871710265375796\n",
      "epoch 1600, loss -0.00037014933012000074\n",
      "epoch 1700, loss -0.00035334144983918106\n",
      "epoch 1800, loss -0.000338050992366326\n",
      "epoch 1900, loss -0.0003240784030573716\n",
      "epoch 2000, loss -0.00031125790785777697\n",
      "epoch 2100, loss -0.0002994506236619544\n",
      "epoch 2200, loss -0.000288539293750388\n",
      "epoch 2300, loss -0.0002784242170960967\n",
      "epoch 2400, loss -0.00026902006652146403\n",
      "epoch 2500, loss -0.00026025337674812467\n",
      "epoch 2600, loss -0.00025206054302617147\n",
      "epoch 2700, loss -0.00024438621297404755\n",
      "epoch 2800, loss -0.00023718198416367034\n",
      "epoch 2900, loss -0.00023040534157055031\n"
     ]
    }
   ],
   "source": [
    "# 模型训练\n",
    "for i in range(epochs):\n",
    "    # 前向计算\n",
    "    y_hat = forward(X_train, theta, bias)\n",
    "    # 计算损失\n",
    "    l = loss(y_train, y_hat)\n",
    "    # 计算梯度\n",
    "    delta_theta, delta_bias = gradient(X_train, y_train, y_hat)\n",
    "    # 更新参数\n",
    "    theta -= lr * delta_theta\n",
    "    bias -= lr * delta_bias\n",
    "    if i % 100 == 0:\n",
    "        print(f'epoch {i}, loss {np.mean(l)}') "
   ]
  },
  {
   "cell_type": "code",
   "execution_count": 31,
   "metadata": {},
   "outputs": [
    {
     "name": "stdout",
     "output_type": "stream",
     "text": [
      "y: 0, predict: [0.]\n"
     ]
    }
   ],
   "source": [
    "# 模型推理\n",
    "idx = np.random.randint(len(X_test))\n",
    "x = X_test[idx]\n",
    "y = y_test[idx]\n",
    "predict = np.round(forward(x, theta, bias))\n",
    "print(f'y: {y}, predict: {predict}')\n"
   ]
  },
  {
   "cell_type": "markdown",
   "metadata": {},
   "source": [
    "## 3. 训练后模型参数保存到文件，在另一个代码中加载参数实现预测功能；"
   ]
  },
  {
   "cell_type": "code",
   "execution_count": 32,
   "metadata": {},
   "outputs": [],
   "source": [
    "np.save('array.npy', theta)"
   ]
  },
  {
   "cell_type": "code",
   "execution_count": 33,
   "metadata": {},
   "outputs": [
    {
     "name": "stdout",
     "output_type": "stream",
     "text": [
      "[[-0.79958289 -4.4782756   6.06842245  2.19584681]]\n"
     ]
    }
   ],
   "source": [
    "loaded_array = np.load('array.npy')\n",
    "\n",
    "print(loaded_array)"
   ]
  },
  {
   "cell_type": "code",
   "execution_count": 34,
   "metadata": {},
   "outputs": [
    {
     "name": "stdout",
     "output_type": "stream",
     "text": [
      "y: 1, predict: [1.]\n"
     ]
    }
   ],
   "source": [
    "idx = np.random.randint(len(X_test))\n",
    "x = X_test[idx]\n",
    "y = y_test[idx]\n",
    "predict = np.round(forward(x, loaded_array, bias))\n",
    "print(f'y: {y}, predict: {predict}')"
   ]
  },
  {
   "cell_type": "markdown",
   "metadata": {},
   "source": [
    "## 4.总结逻辑回归运算及训练相关知识点"
   ]
  },
  {
   "cell_type": "markdown",
   "metadata": {},
   "source": [
    "## 1.概念"
   ]
  },
  {
   "cell_type": "markdown",
   "metadata": {},
   "source": [
    "逻辑回归是一种线性模型，用于估计事件发生的概率。它通过一个逻辑函数（sigmoid函数）将线性回归的输出映射到0到1之间的概率值。"
   ]
  },
  {
   "cell_type": "markdown",
   "metadata": {},
   "source": [
    "## 2.sigmoid函数"
   ]
  },
  {
   "cell_type": "markdown",
   "metadata": {},
   "source": [
    "Sigmoid函数的公式为： $[ \\sigma(z) = \\frac{1}{1 + e^{-z}} ]$ 其中，$( z = \\mathbf{w}^T \\mathbf{x} + b )$，$(\\mathbf{w})$是权重向量，$( \\mathbf{x} )$是输入特征向量，$( b )$是偏置。"
   ]
  },
  {
   "cell_type": "markdown",
   "metadata": {},
   "source": [
    "## 3. 损失函数"
   ]
  },
  {
   "cell_type": "markdown",
   "metadata": {},
   "source": [
    "逻辑回归使用对数损失函数$（Log Loss）$来衡量模型的预测误差： $[ L(y, \\hat{y}) = -\\frac{1}{m} \\sum_{i=1}^{m} \\left[ y_i \\log(\\hat{y}_i) + (1 - y_i) \\log(1 - \\hat{y}_i) \\right] ]$ 其中，$( y_i )$是实际标签，$( \\hat{y}_i )$是预测概率，$( m )$是样本数量。"
   ]
  },
  {
   "cell_type": "markdown",
   "metadata": {},
   "source": [
    "## 4. 模型训练"
   ]
  },
  {
   "cell_type": "markdown",
   "metadata": {},
   "source": [
    "逻辑回归模型的训练过程通常使用梯度下降法来最小化损失函数。主要步骤包括：\n",
    "\n",
    "1. 初始化权重和偏置。\n",
    "2. 计算预测值。\n",
    "3. 计算损失函数的梯度。\n",
    "4. 更新权重和偏置。"
   ]
  }
 ],
 "metadata": {
  "kernelspec": {
   "display_name": "3.12.4",
   "language": "python",
   "name": "python3"
  },
  "language_info": {
   "codemirror_mode": {
    "name": "ipython",
    "version": 3
   },
   "file_extension": ".py",
   "mimetype": "text/x-python",
   "name": "python",
   "nbconvert_exporter": "python",
   "pygments_lexer": "ipython3",
   "version": "3.12.4"
  }
 },
 "nbformat": 4,
 "nbformat_minor": 2
}

{
 "cells": [
  {
   "cell_type": "markdown",
   "metadata": {},
   "source": [
    "# 搭建神经网络 使用olivttiface数据集训练"
   ]
  },
  {
   "cell_type": "code",
   "execution_count": 4,
   "metadata": {},
   "outputs": [],
   "source": [
    "from sklearn.datasets import fetch_olivetti_faces"
   ]
  },
  {
   "cell_type": "code",
   "execution_count": 5,
   "metadata": {},
   "outputs": [
    {
     "name": "stdout",
     "output_type": "stream",
     "text": [
      "(400, 4096)\n",
      "(400,)\n",
      "(400, 64, 64)\n"
     ]
    }
   ],
   "source": [
    "olivetti_faces = fetch_olivetti_faces(data_home=\"./face_data\", shuffle=True)\n",
    "print(olivetti_faces.data.shape)\n",
    "print(olivetti_faces.target.shape)\n",
    "print(olivetti_faces.images.shape)"
   ]
  },
  {
   "cell_type": "code",
   "execution_count": 6,
   "metadata": {},
   "outputs": [
    {
     "data": {
      "image/png": "[encoded data removed]",
      "text/plain": [
       "<Figure size 640x480 with 1 Axes>"
      ]
     },
     "metadata": {},
     "output_type": "display_data"
    }
   ],
   "source": [
    "import matplotlib.pyplot as plt\n",
    "face = olivetti_faces.images[1]\n",
    "plt.imshow(face, cmap='gray')\n",
    "plt.show()"
   ]
  },
  {
   "cell_type": "code",
   "execution_count": 7,
   "metadata": {},
   "outputs": [
    {
     "data": {
      "text/plain": [
       "array([0.76859504, 0.75619835, 0.74380165, ..., 0.48347107, 0.6280992 ,\n",
       "       0.6528926 ], shape=(4096,), dtype=float32)"
      ]
     },
     "execution_count": 7,
     "metadata": {},
     "output_type": "execute_result"
    }
   ],
   "source": [
    "olivetti_faces.data[1]"
   ]
  },
  {
   "cell_type": "code",
   "execution_count": 8,
   "metadata": {},
   "outputs": [],
   "source": [
    "import torch\n",
    "import torch.nn as nn"
   ]
  },
  {
   "cell_type": "code",
   "execution_count": 11,
   "metadata": {},
   "outputs": [],
   "source": [
    "images = torch.tensor(olivetti_faces.data, dtype=torch.float32)\n",
    "targets = torch.tensor(olivetti_faces.target, dtype=torch.int64)"
   ]
  },
  {
   "cell_type": "code",
   "execution_count": 12,
   "metadata": {},
   "outputs": [
    {
     "data": {
      "text/plain": [
       "torch.Size([400, 4096])"
      ]
     },
     "execution_count": 12,
     "metadata": {},
     "output_type": "execute_result"
    }
   ],
   "source": [
    "images.shape"
   ]
  },
  {
   "cell_type": "code",
   "execution_count": 13,
   "metadata": {},
   "outputs": [
    {
     "data": {
      "text/plain": [
       "torch.Size([400])"
      ]
     },
     "execution_count": 13,
     "metadata": {},
     "output_type": "execute_result"
    }
   ],
   "source": [
    "targets.shape"
   ]
  },
  {
   "cell_type": "code",
   "execution_count": 14,
   "metadata": {},
   "outputs": [
    {
     "data": {
      "text/plain": [
       "(tensor([0.6694, 0.6364, 0.6488,  ..., 0.0868, 0.0826, 0.0744]), tensor(13))"
      ]
     },
     "execution_count": 14,
     "metadata": {},
     "output_type": "execute_result"
    }
   ],
   "source": [
    "dataset = [(img, lbl) for img, lbl in zip(images, targets)]\n",
    "dataset[0]"
   ]
  },
  {
   "cell_type": "code",
   "execution_count": 15,
   "metadata": {},
   "outputs": [],
   "source": [
    "dataloaders = torch.utils.data.DataLoader(dataset, batch_size=10, shuffle=True)"
   ]
  },
  {
   "cell_type": "code",
   "execution_count": 17,
   "metadata": {},
   "outputs": [
    {
     "data": {
      "text/plain": [
       "device(type='mps')"
      ]
     },
     "execution_count": 17,
     "metadata": {},
     "output_type": "execute_result"
    }
   ],
   "source": [
    "device = torch.device(\"mps\" if torch.backends.mps.is_available() else \"cpu\")\n",
    "# device = torch.device(\"cuda\" if torch.cuda.is_available() else \"cpu\")\n",
    "device"
   ]
  },
  {
   "cell_type": "code",
   "execution_count": 18,
   "metadata": {},
   "outputs": [],
   "source": [
    "# 多层神经网络模型\n",
    "model = nn.Sequential(\n",
    "    nn.Linear(4096, 8192),\n",
    "    nn.ReLU(),\n",
    "    nn.Linear(8192, 16384),\n",
    "    nn.ReLU(),\n",
    "    nn.Dropout(),\n",
    "    nn.Linear(16384, 1024),\n",
    "    nn.ReLU(),\n",
    "    nn.Linear(1024, 40)\n",
    ").to(device)"
   ]
  },
  {
   "cell_type": "code",
   "execution_count": 19,
   "metadata": {},
   "outputs": [
    {
     "name": "stdout",
     "output_type": "stream",
     "text": [
      "Sequential(\n",
      "  (0): Linear(in_features=4096, out_features=8192, bias=True)\n",
      "  (1): ReLU()\n",
      "  (2): Linear(in_features=8192, out_features=16384, bias=True)\n",
      "  (3): ReLU()\n",
      "  (4): Dropout(p=0.5, inplace=False)\n",
      "  (5): Linear(in_features=16384, out_features=1024, bias=True)\n",
      "  (6): ReLU()\n",
      "  (7): Linear(in_features=1024, out_features=40, bias=True)\n",
      ")\n"
     ]
    }
   ],
   "source": [
    "print(model)"
   ]
  },
  {
   "cell_type": "code",
   "execution_count": 20,
   "metadata": {},
   "outputs": [],
   "source": [
    "criterion = nn.CrossEntropyLoss()\n",
    "optimizer = torch.optim.Adam(model.parameters(), lr=1e-3)"
   ]
  },
  {
   "cell_type": "code",
   "execution_count": 21,
   "metadata": {},
   "outputs": [
    {
     "name": "stdout",
     "output_type": "stream",
     "text": [
      "epoch 1, loss 3.71\n",
      "epoch 1, loss 49.15\n",
      "epoch 1, loss 6.79\n",
      "epoch 1, loss 3.53\n",
      "epoch 1, loss 4.66\n",
      "epoch 1, loss 3.82\n",
      "epoch 1, loss 3.80\n",
      "epoch 1, loss 3.79\n",
      "epoch 1, loss 3.88\n",
      "epoch 1, loss 3.77\n",
      "epoch 1, loss 3.73\n",
      "epoch 1, loss 3.72\n",
      "epoch 1, loss 3.69\n",
      "epoch 1, loss 3.66\n",
      "epoch 1, loss 3.75\n",
      "epoch 1, loss 3.68\n",
      "epoch 1, loss 3.70\n",
      "epoch 1, loss 3.79\n",
      "epoch 1, loss 3.82\n",
      "epoch 1, loss 3.71\n",
      "epoch 1, loss 3.73\n",
      "epoch 1, loss 3.75\n",
      "epoch 1, loss 3.80\n",
      "epoch 1, loss 3.70\n",
      "epoch 1, loss 3.74\n",
      "epoch 1, loss 3.69\n",
      "epoch 1, loss 3.77\n",
      "epoch 1, loss 3.70\n",
      "epoch 1, loss 3.71\n",
      "epoch 1, loss 3.71\n",
      "epoch 1, loss 3.70\n",
      "epoch 1, loss 3.70\n",
      "epoch 1, loss 3.73\n",
      "epoch 1, loss 3.72\n",
      "epoch 1, loss 3.71\n",
      "epoch 1, loss 3.69\n",
      "epoch 1, loss 3.65\n",
      "epoch 1, loss 4.13\n",
      "epoch 1, loss 3.76\n",
      "epoch 1, loss 3.71\n",
      "epoch 2, loss 3.69\n",
      "epoch 2, loss 3.69\n",
      "epoch 2, loss 3.68\n",
      "epoch 2, loss 3.71\n",
      "epoch 2, loss 3.70\n",
      "epoch 2, loss 3.70\n",
      "epoch 2, loss 3.71\n",
      "epoch 2, loss 3.71\n",
      "epoch 2, loss 3.71\n",
      "epoch 2, loss 3.68\n",
      "epoch 2, loss 3.67\n",
      "epoch 2, loss 3.72\n",
      "epoch 2, loss 3.70\n",
      "epoch 2, loss 3.68\n",
      "epoch 2, loss 3.71\n",
      "epoch 2, loss 3.70\n",
      "epoch 2, loss 3.76\n",
      "epoch 2, loss 3.77\n",
      "epoch 2, loss 3.69\n",
      "epoch 2, loss 3.71\n",
      "epoch 2, loss 3.69\n",
      "epoch 2, loss 3.67\n",
      "epoch 2, loss 3.73\n",
      "epoch 2, loss 3.69\n",
      "epoch 2, loss 3.70\n",
      "epoch 2, loss 3.73\n",
      "epoch 2, loss 3.69\n",
      "epoch 2, loss 3.71\n",
      "epoch 2, loss 3.69\n",
      "epoch 2, loss 3.70\n",
      "epoch 2, loss 3.71\n",
      "epoch 2, loss 3.71\n",
      "epoch 2, loss 3.70\n",
      "epoch 2, loss 3.69\n",
      "epoch 2, loss 3.68\n",
      "epoch 2, loss 3.70\n",
      "epoch 2, loss 3.70\n",
      "epoch 2, loss 3.71\n",
      "epoch 2, loss 3.68\n",
      "epoch 2, loss 3.70\n",
      "epoch 3, loss 3.68\n",
      "epoch 3, loss 3.70\n",
      "epoch 3, loss 3.68\n",
      "epoch 3, loss 3.69\n",
      "epoch 3, loss 3.67\n",
      "epoch 3, loss 3.70\n",
      "epoch 3, loss 3.69\n",
      "epoch 3, loss 3.68\n",
      "epoch 3, loss 3.68\n",
      "epoch 3, loss 3.67\n",
      "epoch 3, loss 3.70\n",
      "epoch 3, loss 3.69\n",
      "epoch 3, loss 3.70\n",
      "epoch 3, loss 3.71\n",
      "epoch 3, loss 3.70\n",
      "epoch 3, loss 3.72\n",
      "epoch 3, loss 3.70\n",
      "epoch 3, loss 3.71\n",
      "epoch 3, loss 3.69\n",
      "epoch 3, loss 3.70\n",
      "epoch 3, loss 3.69\n",
      "epoch 3, loss 3.69\n",
      "epoch 3, loss 3.68\n",
      "epoch 3, loss 3.68\n",
      "epoch 3, loss 3.68\n",
      "epoch 3, loss 3.69\n",
      "epoch 3, loss 3.69\n",
      "epoch 3, loss 3.70\n",
      "epoch 3, loss 3.70\n",
      "epoch 3, loss 3.69\n",
      "epoch 3, loss 3.69\n",
      "epoch 3, loss 3.69\n",
      "epoch 3, loss 3.69\n",
      "epoch 3, loss 3.69\n",
      "epoch 3, loss 3.69\n",
      "epoch 3, loss 3.69\n",
      "epoch 3, loss 3.70\n",
      "epoch 3, loss 3.70\n",
      "epoch 3, loss 3.67\n",
      "epoch 3, loss 3.69\n",
      "epoch 4, loss 3.69\n",
      "epoch 4, loss 3.69\n",
      "epoch 4, loss 3.69\n",
      "epoch 4, loss 3.68\n",
      "epoch 4, loss 3.69\n",
      "epoch 4, loss 3.69\n",
      "epoch 4, loss 3.69\n",
      "epoch 4, loss 3.69\n",
      "epoch 4, loss 3.70\n",
      "epoch 4, loss 3.68\n",
      "epoch 4, loss 3.69\n",
      "epoch 4, loss 3.69\n",
      "epoch 4, loss 3.69\n",
      "epoch 4, loss 3.71\n",
      "epoch 4, loss 3.69\n",
      "epoch 4, loss 3.71\n",
      "epoch 4, loss 3.69\n",
      "epoch 4, loss 3.69\n",
      "epoch 4, loss 3.70\n",
      "epoch 4, loss 3.69\n",
      "epoch 4, loss 3.68\n",
      "epoch 4, loss 3.70\n",
      "epoch 4, loss 3.68\n",
      "epoch 4, loss 3.69\n",
      "epoch 4, loss 3.68\n",
      "epoch 4, loss 3.69\n",
      "epoch 4, loss 3.69\n",
      "epoch 4, loss 3.69\n",
      "epoch 4, loss 3.69\n",
      "epoch 4, loss 3.69\n",
      "epoch 4, loss 3.70\n",
      "epoch 4, loss 3.67\n",
      "epoch 4, loss 3.69\n",
      "epoch 4, loss 3.67\n",
      "epoch 4, loss 3.69\n",
      "epoch 4, loss 3.68\n",
      "epoch 4, loss 3.68\n",
      "epoch 4, loss 3.69\n",
      "epoch 4, loss 3.67\n",
      "epoch 4, loss 3.70\n",
      "epoch 5, loss 3.68\n",
      "epoch 5, loss 3.70\n",
      "epoch 5, loss 3.66\n",
      "epoch 5, loss 3.69\n",
      "epoch 5, loss 3.67\n",
      "epoch 5, loss 3.67\n",
      "epoch 5, loss 3.75\n",
      "epoch 5, loss 3.71\n",
      "epoch 5, loss 3.69\n",
      "epoch 5, loss 3.73\n",
      "epoch 5, loss 3.70\n",
      "epoch 5, loss 3.69\n",
      "epoch 5, loss 3.68\n",
      "epoch 5, loss 3.69\n",
      "epoch 5, loss 3.70\n",
      "epoch 5, loss 3.67\n",
      "epoch 5, loss 3.69\n",
      "epoch 5, loss 3.68\n",
      "epoch 5, loss 3.69\n",
      "epoch 5, loss 3.68\n",
      "epoch 5, loss 3.68\n",
      "epoch 5, loss 3.66\n",
      "epoch 5, loss 3.70\n",
      "epoch 5, loss 3.66\n",
      "epoch 5, loss 3.70\n",
      "epoch 5, loss 3.67\n",
      "epoch 5, loss 3.71\n",
      "epoch 5, loss 3.73\n",
      "epoch 5, loss 3.77\n",
      "epoch 5, loss 3.67\n",
      "epoch 5, loss 3.71\n",
      "epoch 5, loss 3.68\n",
      "epoch 5, loss 3.64\n",
      "epoch 5, loss 3.67\n",
      "epoch 5, loss 3.76\n",
      "epoch 5, loss 3.71\n",
      "epoch 5, loss 3.68\n",
      "epoch 5, loss 3.72\n",
      "epoch 5, loss 3.68\n",
      "epoch 5, loss 3.72\n",
      "epoch 6, loss 3.68\n",
      "epoch 6, loss 3.70\n",
      "epoch 6, loss 3.68\n",
      "epoch 6, loss 3.73\n",
      "epoch 6, loss 3.66\n",
      "epoch 6, loss 3.69\n",
      "epoch 6, loss 3.67\n",
      "epoch 6, loss 3.69\n",
      "epoch 6, loss 3.69\n",
      "epoch 6, loss 3.69\n",
      "epoch 6, loss 3.70\n",
      "epoch 6, loss 3.67\n",
      "epoch 6, loss 3.70\n",
      "epoch 6, loss 3.70\n",
      "epoch 6, loss 3.70\n",
      "epoch 6, loss 3.70\n",
      "epoch 6, loss 3.69\n",
      "epoch 6, loss 3.69\n",
      "epoch 6, loss 3.69\n",
      "epoch 6, loss 3.67\n",
      "epoch 6, loss 3.70\n",
      "epoch 6, loss 3.69\n",
      "epoch 6, loss 3.69\n",
      "epoch 6, loss 3.69\n",
      "epoch 6, loss 3.70\n",
      "epoch 6, loss 3.70\n",
      "epoch 6, loss 3.71\n",
      "epoch 6, loss 3.69\n",
      "epoch 6, loss 3.70\n",
      "epoch 6, loss 3.68\n",
      "epoch 6, loss 3.71\n",
      "epoch 6, loss 3.70\n",
      "epoch 6, loss 3.69\n",
      "epoch 6, loss 3.69\n",
      "epoch 6, loss 3.71\n",
      "epoch 6, loss 3.70\n",
      "epoch 6, loss 3.69\n",
      "epoch 6, loss 3.69\n",
      "epoch 6, loss 3.71\n",
      "epoch 6, loss 3.70\n",
      "epoch 7, loss 3.69\n",
      "epoch 7, loss 3.69\n",
      "epoch 7, loss 3.69\n",
      "epoch 7, loss 3.68\n",
      "epoch 7, loss 3.68\n",
      "epoch 7, loss 3.69\n",
      "epoch 7, loss 3.69\n",
      "epoch 7, loss 3.70\n",
      "epoch 7, loss 3.69\n",
      "epoch 7, loss 3.70\n",
      "epoch 7, loss 3.69\n",
      "epoch 7, loss 3.69\n",
      "epoch 7, loss 3.70\n",
      "epoch 7, loss 3.69\n",
      "epoch 7, loss 3.69\n",
      "epoch 7, loss 3.69\n",
      "epoch 7, loss 3.69\n",
      "epoch 7, loss 3.69\n",
      "epoch 7, loss 3.69\n",
      "epoch 7, loss 3.69\n",
      "epoch 7, loss 3.69\n",
      "epoch 7, loss 3.69\n",
      "epoch 7, loss 3.68\n",
      "epoch 7, loss 3.69\n",
      "epoch 7, loss 3.70\n",
      "epoch 7, loss 3.69\n",
      "epoch 7, loss 3.69\n",
      "epoch 7, loss 3.70\n",
      "epoch 7, loss 3.70\n",
      "epoch 7, loss 3.69\n",
      "epoch 7, loss 3.69\n",
      "epoch 7, loss 3.69\n",
      "epoch 7, loss 3.69\n",
      "epoch 7, loss 3.68\n",
      "epoch 7, loss 3.69\n",
      "epoch 7, loss 3.69\n",
      "epoch 7, loss 3.70\n",
      "epoch 7, loss 3.69\n",
      "epoch 7, loss 3.69\n",
      "epoch 7, loss 3.70\n",
      "epoch 8, loss 3.69\n",
      "epoch 8, loss 3.69\n",
      "epoch 8, loss 3.69\n",
      "epoch 8, loss 3.69\n",
      "epoch 8, loss 3.69\n",
      "epoch 8, loss 3.69\n",
      "epoch 8, loss 3.69\n",
      "epoch 8, loss 3.69\n",
      "epoch 8, loss 3.69\n",
      "epoch 8, loss 3.70\n",
      "epoch 8, loss 3.69\n",
      "epoch 8, loss 3.69\n",
      "epoch 8, loss 3.69\n",
      "epoch 8, loss 3.69\n",
      "epoch 8, loss 3.69\n",
      "epoch 8, loss 3.69\n",
      "epoch 8, loss 3.69\n",
      "epoch 8, loss 3.68\n",
      "epoch 8, loss 3.69\n",
      "epoch 8, loss 3.71\n",
      "epoch 8, loss 3.69\n",
      "epoch 8, loss 3.69\n",
      "epoch 8, loss 3.69\n",
      "epoch 8, loss 3.69\n",
      "epoch 8, loss 3.69\n",
      "epoch 8, loss 3.70\n",
      "epoch 8, loss 3.69\n",
      "epoch 8, loss 3.70\n",
      "epoch 8, loss 3.68\n",
      "epoch 8, loss 3.69\n",
      "epoch 8, loss 3.69\n",
      "epoch 8, loss 3.69\n",
      "epoch 8, loss 3.69\n",
      "epoch 8, loss 3.69\n",
      "epoch 8, loss 3.69\n",
      "epoch 8, loss 3.70\n",
      "epoch 8, loss 3.68\n",
      "epoch 8, loss 3.69\n",
      "epoch 8, loss 3.69\n",
      "epoch 8, loss 3.70\n",
      "epoch 9, loss 3.68\n",
      "epoch 9, loss 3.68\n",
      "epoch 9, loss 3.70\n",
      "epoch 9, loss 3.69\n",
      "epoch 9, loss 3.69\n",
      "epoch 9, loss 3.69\n",
      "epoch 9, loss 3.69\n",
      "epoch 9, loss 3.69\n",
      "epoch 9, loss 3.68\n",
      "epoch 9, loss 3.69\n",
      "epoch 9, loss 3.69\n",
      "epoch 9, loss 3.69\n",
      "epoch 9, loss 3.69\n",
      "epoch 9, loss 3.69\n",
      "epoch 9, loss 3.68\n",
      "epoch 9, loss 3.70\n",
      "epoch 9, loss 3.69\n",
      "epoch 9, loss 3.69\n",
      "epoch 9, loss 3.69\n",
      "epoch 9, loss 3.68\n",
      "epoch 9, loss 3.68\n",
      "epoch 9, loss 3.69\n",
      "epoch 9, loss 3.69\n",
      "epoch 9, loss 3.69\n",
      "epoch 9, loss 3.68\n",
      "epoch 9, loss 3.69\n",
      "epoch 9, loss 3.68\n",
      "epoch 9, loss 3.69\n",
      "epoch 9, loss 3.69\n",
      "epoch 9, loss 3.69\n",
      "epoch 9, loss 3.70\n",
      "epoch 9, loss 3.69\n",
      "epoch 9, loss 3.69\n",
      "epoch 9, loss 3.69\n",
      "epoch 9, loss 3.69\n",
      "epoch 9, loss 3.69\n",
      "epoch 9, loss 3.69\n",
      "epoch 9, loss 3.69\n",
      "epoch 9, loss 3.69\n",
      "epoch 9, loss 3.69\n",
      "epoch 10, loss 3.69\n",
      "epoch 10, loss 3.69\n",
      "epoch 10, loss 3.69\n",
      "epoch 10, loss 3.69\n",
      "epoch 10, loss 3.69\n",
      "epoch 10, loss 3.69\n",
      "epoch 10, loss 3.68\n",
      "epoch 10, loss 3.69\n",
      "epoch 10, loss 3.69\n",
      "epoch 10, loss 3.68\n",
      "epoch 10, loss 3.68\n",
      "epoch 10, loss 3.69\n",
      "epoch 10, loss 3.69\n",
      "epoch 10, loss 3.69\n",
      "epoch 10, loss 3.69\n",
      "epoch 10, loss 3.70\n",
      "epoch 10, loss 3.69\n",
      "epoch 10, loss 3.69\n",
      "epoch 10, loss 3.69\n",
      "epoch 10, loss 3.69\n",
      "epoch 10, loss 3.69\n",
      "epoch 10, loss 3.69\n",
      "epoch 10, loss 3.69\n",
      "epoch 10, loss 3.69\n",
      "epoch 10, loss 3.69\n",
      "epoch 10, loss 3.70\n",
      "epoch 10, loss 3.69\n",
      "epoch 10, loss 3.69\n",
      "epoch 10, loss 3.69\n",
      "epoch 10, loss 3.69\n",
      "epoch 10, loss 3.69\n",
      "epoch 10, loss 3.69\n",
      "epoch 10, loss 3.69\n",
      "epoch 10, loss 3.69\n",
      "epoch 10, loss 3.68\n",
      "epoch 10, loss 3.69\n",
      "epoch 10, loss 3.69\n",
      "epoch 10, loss 3.70\n",
      "epoch 10, loss 3.69\n",
      "epoch 10, loss 3.70\n"
     ]
    }
   ],
   "source": [
    "loss_hist = []\n",
    "for i in range(10):\n",
    "    for img, lbl in dataloaders:\n",
    "        img, lbl = img.to(device), lbl.to(device)\n",
    "        result = model(img)\n",
    "        loss = criterion(result, lbl)\n",
    "        loss.backward()\n",
    "        optimizer.step()\n",
    "        optimizer.zero_grad()\n",
    "        loss_hist.append(loss.item())\n",
    "        print(f\"epoch {i+1}, loss {loss.item():.2f}\")"
   ]
  },
  {
   "cell_type": "code",
   "execution_count": 22,
   "metadata": {},
   "outputs": [
    {
     "data": {
      "image/png": "[encoded data removed]",
      "text/plain": [
       "<Figure size 640x480 with 1 Axes>"
      ]
     },
     "metadata": {},
     "output_type": "display_data"
    }
   ],
   "source": [
    "plt.plot(range(len(loss_hist)), loss_hist)\n",
    "plt.xlabel(\"iterations\")\n",
    "plt.ylabel(\"loss\")\n",
    "plt.show()"
   ]
  },
  {
   "cell_type": "code",
   "execution_count": null,
   "metadata": {},
   "outputs": [],
   "source": []
  }
 ],
 "metadata": {
  "kernelspec": {
   "display_name": "3.12.4",
   "language": "python",
   "name": "python3"
  },
  "language_info": {
   "codemirror_mode": {
    "name": "ipython",
    "version": 3
   },
   "file_extension": ".py",
   "mimetype": "text/x-python",
   "name": "python",
   "nbconvert_exporter": "python",
   "pygments_lexer": "ipython3",
   "version": "3.12.4"
  }
 },
 "nbformat": 4,
 "nbformat_minor": 2
}

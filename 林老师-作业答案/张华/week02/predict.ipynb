{
 "cells": [
  {
   "cell_type": "code",
   "execution_count": 2,
   "metadata": {},
   "outputs": [],
   "source": [
    "import numpy as np\n"
   ]
  },
  {
   "cell_type": "code",
   "execution_count": 4,
   "metadata": {},
   "outputs": [],
   "source": [
    "# 模型计算函数\n",
    "def forward(x, theta, bias):\n",
    "    # 线性运算\n",
    "    z = np.dot(theta, x.T) + bias # shape (160,10)\n",
    "    # sigmoid\n",
    "    y_hat = 1 / (1 + np.exp(-z))  # shape (160,10)\n",
    "    return y_hat"
   ]
  },
  {
   "cell_type": "code",
   "execution_count": 7,
   "metadata": {},
   "outputs": [
    {
     "name": "stdout",
     "output_type": "stream",
     "text": [
      "y: 1, predict: [1.]\n",
      "y: 1, predict: [1.]\n",
      "y: 0, predict: [0.]\n",
      "y: 0, predict: [0.]\n",
      "y: 1, predict: [1.]\n",
      "y: 1, predict: [1.]\n",
      "y: 0, predict: [1.]\n",
      "y: 0, predict: [0.]\n",
      "y: 1, predict: [1.]\n",
      "y: 0, predict: [0.]\n",
      "y: 1, predict: [1.]\n",
      "y: 0, predict: [0.]\n",
      "y: 1, predict: [1.]\n",
      "y: 0, predict: [0.]\n",
      "y: 1, predict: [1.]\n",
      "y: 0, predict: [0.]\n",
      "y: 1, predict: [1.]\n",
      "y: 1, predict: [1.]\n",
      "y: 0, predict: [1.]\n",
      "y: 1, predict: [1.]\n",
      "y: 0, predict: [0.]\n",
      "y: 0, predict: [0.]\n",
      "y: 1, predict: [1.]\n",
      "y: 0, predict: [0.]\n",
      "y: 0, predict: [1.]\n",
      "y: 0, predict: [0.]\n",
      "y: 0, predict: [0.]\n",
      "y: 0, predict: [0.]\n",
      "y: 1, predict: [1.]\n",
      "y: 0, predict: [0.]\n",
      "y: 1, predict: [1.]\n",
      "y: 0, predict: [0.]\n",
      "y: 0, predict: [1.]\n",
      "y: 1, predict: [1.]\n",
      "y: 0, predict: [0.]\n",
      "y: 0, predict: [0.]\n",
      "y: 0, predict: [0.]\n",
      "y: 0, predict: [0.]\n",
      "y: 0, predict: [0.]\n",
      "y: 1, predict: [1.]\n"
     ]
    }
   ],
   "source": [
    "\n",
    "# 加载模型参数\n",
    "model = np.load(\"model.npz\")\n",
    "theta = model[\"theta\"]\n",
    "bias = model[\"bias\"]\n",
    "\n",
    "# 加载测试集\n",
    "test = np.load(\"test.npz\")\n",
    "X_test = test[\"X_test\"]\n",
    "y_test = test[\"y_test\"]\n",
    "\n",
    "# 模型推理\n",
    "# idx = np.random.randint(len(X_test)) # 随机选择一个测试样本索引\n",
    "# x = X_test[idx]\n",
    "# y = y_test[idx]\n",
    "\n",
    "for i in range(len(X_test)):\n",
    "    predict = np.round(forward(X_test[i], theta, bias))\n",
    "    print(f\"y: {y_test[i]}, predict: {predict}\")"
   ]
  }
 ],
 "metadata": {
  "kernelspec": {
   "display_name": "py312",
   "language": "python",
   "name": "python3"
  },
  "language_info": {
   "codemirror_mode": {
    "name": "ipython",
    "version": 3
   },
   "file_extension": ".py",
   "mimetype": "text/x-python",
   "name": "python",
   "nbconvert_exporter": "python",
   "pygments_lexer": "ipython3",
   "version": "3.12.8"
  }
 },
 "nbformat": 4,
 "nbformat_minor": 2
}

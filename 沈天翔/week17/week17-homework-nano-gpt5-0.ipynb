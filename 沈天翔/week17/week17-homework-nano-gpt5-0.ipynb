{
 "cells": [
  {
   "cell_type": "code",
   "execution_count": null,
   "metadata": {
    "_cell_guid": "b1076dfc-b9ad-4769-8c92-a6c4dae69d19",
    "_uuid": "8f2839f25d086af736a60e9eeb907d3b93b6e0e5",
    "execution": {
     "iopub.execute_input": "2025-07-24T12:52:34.360087Z",
     "iopub.status.busy": "2025-07-24T12:52:34.359765Z",
     "iopub.status.idle": "2025-07-24T12:52:34.634842Z",
     "shell.execute_reply": "2025-07-24T12:52:34.633912Z",
     "shell.execute_reply.started": "2025-07-24T12:52:34.360065Z"
    },
    "trusted": true
   },
   "outputs": [
    {
     "name": "stdout",
     "output_type": "stream",
     "text": [
      "/kaggle/input/san-guo-txt/san_guo.txt\n"
     ]
    }
   ],
   "source": [
    "# This Python 3 environment comes with many helpful analytics libraries installed\n",
    "# It is defined by the kaggle/python Docker image: https://github.com/kaggle/docker-python\n",
    "# For example, here's several helpful packages to load\n",
    "\n",
    "import numpy as np # linear algebra\n",
    "import pandas as pd # data processing, CSV file I/O (e.g. pd.read_csv)\n",
    "\n",
    "# Input data files are available in the read-only \"../input/\" directory\n",
    "# For example, running this (by clicking run or pressing Shift+Enter) will list all files under the input directory\n",
    "\n",
    "import os\n",
    "for dirname, _, filenames in os.walk('/kaggle/input'):\n",
    "    for filename in filenames:\n",
    "        print(os.path.join(dirname, filename))\n",
    "\n",
    "# You can write up to 20GB to the current directory (/kaggle/working/) that gets preserved as output when you create a version using \"Save & Run All\"\n",
    "# You can also write temporary files to /kaggle/temp/, but they won't be saved outside of the current session"
   ]
  },
  {
   "cell_type": "code",
   "execution_count": 2,
   "metadata": {
    "execution": {
     "iopub.execute_input": "2025-07-24T12:52:34.636836Z",
     "iopub.status.busy": "2025-07-24T12:52:34.636150Z",
     "iopub.status.idle": "2025-07-24T12:52:41.041425Z",
     "shell.execute_reply": "2025-07-24T12:52:41.040742Z",
     "shell.execute_reply.started": "2025-07-24T12:52:34.636815Z"
    },
    "trusted": true
   },
   "outputs": [],
   "source": [
    "import torch\n",
    "import torch.nn as nn\n",
    "import torch.nn.functional as F\n",
    "from tqdm import tqdm\n",
    "from torch.nn.attention import SDPBackend, sdpa_kernel"
   ]
  },
  {
   "cell_type": "code",
   "execution_count": 3,
   "metadata": {
    "execution": {
     "iopub.execute_input": "2025-07-24T12:52:41.042478Z",
     "iopub.status.busy": "2025-07-24T12:52:41.042129Z",
     "iopub.status.idle": "2025-07-24T12:52:41.047007Z",
     "shell.execute_reply": "2025-07-24T12:52:41.046302Z",
     "shell.execute_reply.started": "2025-07-24T12:52:41.042453Z"
    },
    "trusted": true
   },
   "outputs": [],
   "source": [
    "def get_batch(split):\n",
    "    # 选择训练或验证数据集\n",
    "    data = train_data if split == 'train' else val_data\n",
    "\n",
    "    # 动态从数据集中选择位置索引\n",
    "    ix = torch.randint(len(data) - block_size, (batch_size,))\n",
    "    x = torch.stack([data[i:i+block_size] for i in ix])\n",
    "    y = torch.stack([data[i+1:i+block_size+1] for i in ix])\n",
    "\n",
    "    return x.to(device),y.to(device)"
   ]
  },
  {
   "cell_type": "code",
   "execution_count": 4,
   "metadata": {
    "execution": {
     "iopub.execute_input": "2025-07-24T12:52:41.049231Z",
     "iopub.status.busy": "2025-07-24T12:52:41.048950Z",
     "iopub.status.idle": "2025-07-24T12:52:41.159574Z",
     "shell.execute_reply": "2025-07-24T12:52:41.158727Z",
     "shell.execute_reply.started": "2025-07-24T12:52:41.049202Z"
    },
    "trusted": true
   },
   "outputs": [],
   "source": [
    "class Block(nn.Module):\n",
    "    def __init__(self, n_embd, n_head, dropout):\n",
    "        super().__init__()\n",
    "        head_size = n_embd // n_head\n",
    "        self.sa = MultiHeadAttention(n_head, n_embd, head_size, dropout)\n",
    "        self.ffwd = FeedFoward(n_embd)\n",
    "        self.ln1 = nn.LayerNorm(n_embd)\n",
    "        self.ln2 = nn.LayerNorm(n_embd)\n",
    "\n",
    "    def forward(self, x):\n",
    "        # 确保残差连接数据类型一致\n",
    "        x = x + self.sa(self.ln1(x)).to(x.dtype)   # 残差连接\n",
    "        x = x + self.ffwd(self.ln2(x)).to(x.dtype) # 残差连接\n",
    "        return x"
   ]
  },
  {
   "cell_type": "code",
   "execution_count": 5,
   "metadata": {
    "execution": {
     "iopub.execute_input": "2025-07-24T12:52:41.160730Z",
     "iopub.status.busy": "2025-07-24T12:52:41.160492Z",
     "iopub.status.idle": "2025-07-24T12:52:41.176810Z",
     "shell.execute_reply": "2025-07-24T12:52:41.176291Z",
     "shell.execute_reply.started": "2025-07-24T12:52:41.160706Z"
    },
    "trusted": true
   },
   "outputs": [],
   "source": [
    "class FeedFoward(nn.Module):\n",
    "    def __init__(self, n_embd):\n",
    "        super().__init__()\n",
    "        self.net = nn.Sequential(\n",
    "            nn.Linear(n_embd, n_embd*4),\n",
    "            nn.ReLU(),\n",
    "            nn.Linear(4*n_embd, n_embd),\n",
    "        )\n",
    "\n",
    "    def forward(self, x):\n",
    "        return self.net(x.float())  # 确保输入为float32"
   ]
  },
  {
   "cell_type": "code",
   "execution_count": 6,
   "metadata": {
    "execution": {
     "iopub.execute_input": "2025-07-24T12:52:41.177665Z",
     "iopub.status.busy": "2025-07-24T12:52:41.177434Z",
     "iopub.status.idle": "2025-07-24T12:52:41.200226Z",
     "shell.execute_reply": "2025-07-24T12:52:41.199706Z",
     "shell.execute_reply.started": "2025-07-24T12:52:41.177641Z"
    },
    "trusted": true
   },
   "outputs": [],
   "source": [
    "class MultiHeadAttention(nn.Module):\n",
    "    def __init__(self, num_heads, n_embd, head_embd, dropout):\n",
    "        super().__init__()\n",
    "        self.heads = nn.ModuleList([Head(n_embd, head_embd, dropout) for _ in range(num_heads)])\n",
    "        self.proj = nn.Linear(n_embd, n_embd)\n",
    "        self.dropout = nn.Dropout(dropout)\n",
    "\n",
    "    def forward(self, x):\n",
    "        # 确保输入和输出数据类型一致\n",
    "        out = torch.cat([h(x) for h in self.heads], dim=-1)\n",
    "        out = self.proj(out.float())  # 确保转换为float32\n",
    "        return out"
   ]
  },
  {
   "cell_type": "code",
   "execution_count": null,
   "metadata": {
    "execution": {
     "iopub.execute_input": "2025-07-24T12:52:41.201089Z",
     "iopub.status.busy": "2025-07-24T12:52:41.200870Z",
     "iopub.status.idle": "2025-07-24T12:52:41.217710Z",
     "shell.execute_reply": "2025-07-24T12:52:41.217123Z",
     "shell.execute_reply.started": "2025-07-24T12:52:41.201057Z"
    },
    "trusted": true
   },
   "outputs": [],
   "source": [
    "class Head(nn.Module):\n",
    "    \"\"\" one head of self-attention \"\"\"\n",
    "\n",
    "    def __init__(self, n_embd, head_embd, dropout):\n",
    "        super().__init__()\n",
    "        self.key = nn.Linear(n_embd, head_embd, bias=False)\n",
    "        self.query = nn.Linear(n_embd, head_embd, bias=False)\n",
    "        self.value = nn.Linear(n_embd, head_embd, bias=False)\n",
    "        self.register_buffer('tril', torch.tril(torch.ones(block_size, block_size)))\n",
    "        self.dropout = nn.Dropout(dropout)\n",
    "        self.head_embd = head_embd\n",
    "\n",
    "    def forward(self, input_x):\n",
    "        B, T, C = input_x.shape\n",
    "        k = self.key(input_x)   # (B, T, head_size)\n",
    "        q = self.query(input_x) # (B, T, head_size)\n",
    "        v = self.value(input_x) # (B, T, head_size)\n",
    "\n",
    "        # 确保所有张量在相同设备上\n",
    "        device = q.device\n",
    "\n",
    "        # 尝试使用Flash Attention（需要4维输入）\n",
    "        if torch.cuda.is_available():\n",
    "            try:\n",
    "                # 转换为4维 (B, num_heads, T, head_size)\n",
    "                q_4d = q.view(B, T, 1, self.head_embd).transpose(1, 2)  # (B, 1, T, head_size)\n",
    "                k_4d = k.view(B, T, 1, self.head_embd).transpose(1, 2)\n",
    "                v_4d = v.view(B, T, 1, self.head_embd).transpose(1, 2)\n",
    "\n",
    "                # 确保数据类型一致（全部转为float16）\n",
    "                q_4d, k_4d, v_4d = q_4d.half(), k_4d.half(), v_4d.half()\n",
    "\n",
    "                with torch.backends.cuda.sdp_kernel(enable_flash=True):\n",
    "                    attn_output = F.scaled_dot_product_attention(\n",
    "                        q_4d, k_4d, v_4d,\n",
    "                        attn_mask=None,\n",
    "                        dropout_p=self.dropout.p if self.training else 0.0,\n",
    "                        is_causal=True\n",
    "                    )\n",
    "\n",
    "                # 转换回3维和原始数据类型\n",
    "                attn_output = attn_output.transpose(1, 2).contiguous().view(B, T, self.head_embd)\n",
    "                attn_output = attn_output.to(input_x.dtype)\n",
    "                return attn_output\n",
    "            except RuntimeError as e:\n",
    "                print(f\"Flash Attention failed, falling back to manual implementation: {e}\")\n",
    "\n",
    "        # 普通实现（确保数据类型一致）\n",
    "        q, k, v = q.to(input_x.dtype), k.to(input_x.dtype), v.to(input_x.dtype)\n",
    "        wei = q @ k.transpose(-2, -1) * (self.head_embd ** -0.5)\n",
    "        wei = wei.masked_fill(self.tril[:T, :T] == 0, float('-inf'))\n",
    "        wei = F.softmax(wei, dim=-1)\n",
    "        wei = self.dropout(wei)\n",
    "        attn_output = wei @ v\n",
    "\n",
    "        return attn_output"
   ]
  },
  {
   "cell_type": "code",
   "execution_count": 8,
   "metadata": {
    "execution": {
     "iopub.execute_input": "2025-07-24T12:52:41.218590Z",
     "iopub.status.busy": "2025-07-24T12:52:41.218404Z",
     "iopub.status.idle": "2025-07-24T12:52:41.238162Z",
     "shell.execute_reply": "2025-07-24T12:52:41.237624Z",
     "shell.execute_reply.started": "2025-07-24T12:52:41.218571Z"
    },
    "trusted": true
   },
   "outputs": [],
   "source": [
    "class BingramLanguageModel(nn.Module):\n",
    "    def __init__(self, block_size, vocab_size, n_embd, n_head, n_layer, dropout):\n",
    "        super().__init__()\n",
    "        self.token_embedding_table = nn.Embedding(vocab_size, n_embd)\n",
    "        self.position_embedding_table = nn.Embedding(block_size, n_embd)\n",
    "        self.blocks = nn.Sequential(*[Block(n_embd, n_head=n_head, dropout=dropout) for _ in range(n_layer)])\n",
    "        self.ln_f = nn.LayerNorm(n_embd)\n",
    "        self.lm_head = nn.Linear(n_embd, vocab_size)\n",
    "        self.block_size = block_size  # 添加block_size属性\n",
    "\n",
    "    def forward(self, idx, targets=None):\n",
    "        B, T = idx.shape\n",
    "        tok_emb = self.token_embedding_table(idx)  # (B,T,C)\n",
    "        pos_emb = self.position_embedding_table(torch.arange(T, device=idx.device)) # (T,C)\n",
    "        x = tok_emb + pos_emb  # (B, T, C)\n",
    "        x = self.blocks(x)  # (B, T, C)\n",
    "        x = self.ln_f(x)\n",
    "        logits = self.lm_head(x)  # (B,T, vocab_size)\n",
    "\n",
    "        if targets is None:\n",
    "            loss = None\n",
    "        else:\n",
    "            B, T, C = logits.shape\n",
    "            logits = logits.reshape(B * T, C)\n",
    "            targets = targets.reshape(B * T)\n",
    "            loss = F.cross_entropy(logits, targets)\n",
    "\n",
    "        return logits, loss\n",
    "\n",
    "    # 添加generate方法用于文本生成\n",
    "    def generate(self, idx, max_new_tokens):\n",
    "        # idx是当前上下文索引数组，形状为(B, T)\n",
    "        for _ in range(max_new_tokens):\n",
    "            # 裁剪idx到block_size长度\n",
    "            idx_cond = idx[:, -self.block_size:]\n",
    "            # 获取预测\n",
    "            logits, _ = self(idx_cond)\n",
    "            # 聚焦最后时间步\n",
    "            logits = logits[:, -1, :]  # 变为(B, C)\n",
    "            # 应用softmax获取概率\n",
    "            probs = F.softmax(logits, dim=-1)  # (B, C)\n",
    "            # 从分布中采样\n",
    "            idx_next = torch.multinomial(probs, num_samples=1)  # (B, 1)\n",
    "            # 将采样索引附加到序列中\n",
    "            idx = torch.cat((idx, idx_next), dim=1)  # (B, T+1)\n",
    "        return idx"
   ]
  },
  {
   "cell_type": "code",
   "execution_count": 9,
   "metadata": {
    "execution": {
     "iopub.execute_input": "2025-07-24T12:52:41.239532Z",
     "iopub.status.busy": "2025-07-24T12:52:41.238885Z",
     "iopub.status.idle": "2025-07-24T12:52:41.349454Z",
     "shell.execute_reply": "2025-07-24T12:52:41.348681Z",
     "shell.execute_reply.started": "2025-07-24T12:52:41.239506Z"
    },
    "trusted": true
   },
   "outputs": [],
   "source": [
    "# 模型训练数据集\n",
    "block_size = 8\n",
    "batch_size = 256\n",
    "max_iter = 500\n",
    "learn_rate = 1e-3\n",
    "device = 'cuda' if torch.cuda.is_available() else 'cpu'\n",
    "n_embd = 512\n",
    "eval_interval = 100\n",
    "eval_iters = 100\n",
    "head_size = 64\n",
    "num_layers = 8\n",
    "dropout = 0.1"
   ]
  },
  {
   "cell_type": "code",
   "execution_count": 10,
   "metadata": {
    "execution": {
     "iopub.execute_input": "2025-07-24T12:52:41.351515Z",
     "iopub.status.busy": "2025-07-24T12:52:41.351227Z",
     "iopub.status.idle": "2025-07-24T13:02:03.413961Z",
     "shell.execute_reply": "2025-07-24T13:02:03.413198Z",
     "shell.execute_reply.started": "2025-07-24T12:52:41.351487Z"
    },
    "trusted": true
   },
   "outputs": [
    {
     "name": "stderr",
     "output_type": "stream",
     "text": [
      "Training Progress:   0%|          | 0/500 [00:00<?, ?it/s]/usr/lib/python3.11/contextlib.py:105: FutureWarning: `torch.backends.cuda.sdp_kernel()` is deprecated. In the future, this context manager will be removed. Please see `torch.nn.attention.sdpa_kernel()` for the new context manager, with updated signature.\n",
      "  self.gen = func(*args, **kwds)\n",
      "Training Progress:   0%|          | 0/500 [00:31<?, ?it/s]"
     ]
    },
    {
     "name": "stdout",
     "output_type": "stream",
     "text": [
      "step 0: train loss 8.4885, val loss 8.4845\n",
      "\n"
     ]
    },
    {
     "name": "stderr",
     "output_type": "stream",
     "text": [
      "Training Progress:  20%|██        | 100/500 [01:53<03:11,  2.09it/s]"
     ]
    },
    {
     "name": "stdout",
     "output_type": "stream",
     "text": [
      "step 100: train loss 5.2095, val loss 5.5107\n",
      "\n"
     ]
    },
    {
     "name": "stderr",
     "output_type": "stream",
     "text": [
      "Training Progress:  40%|████      | 200/500 [03:19<02:41,  1.86it/s]  "
     ]
    },
    {
     "name": "stdout",
     "output_type": "stream",
     "text": [
      "step 200: train loss 4.6044, val loss 5.0567\n",
      "\n"
     ]
    },
    {
     "name": "stderr",
     "output_type": "stream",
     "text": [
      "Training Progress:  60%|██████    | 300/500 [04:48<01:47,  1.87it/s]"
     ]
    },
    {
     "name": "stdout",
     "output_type": "stream",
     "text": [
      "step 300: train loss 4.3290, val loss 4.9032\n",
      "\n"
     ]
    },
    {
     "name": "stderr",
     "output_type": "stream",
     "text": [
      "Training Progress:  80%|████████  | 400/500 [06:15<00:52,  1.91it/s]"
     ]
    },
    {
     "name": "stdout",
     "output_type": "stream",
     "text": [
      "step 400: train loss 4.1433, val loss 4.8050\n",
      "\n"
     ]
    },
    {
     "name": "stderr",
     "output_type": "stream",
     "text": [
      "Training Progress: 100%|█████████▉| 499/500 [07:38<00:00,  1.92it/s]"
     ]
    },
    {
     "name": "stdout",
     "output_type": "stream",
     "text": [
      "step 499: train loss 3.9998, val loss 4.7831\n",
      "\n"
     ]
    },
    {
     "name": "stderr",
     "output_type": "stream",
     "text": [
      "Training Progress: 100%|██████████| 500/500 [07:38<00:00,  1.09it/s]\n"
     ]
    },
    {
     "name": "stdout",
     "output_type": "stream",
     "text": [
      "\n",
      "Generated Text:\n",
      "\n",
      "　　且说张郃自出兵有二十里，大夫去见马超。朱灵接着，方告文事。韩福乃喜曰：“汝乃荀彧奏，远征伐纣面少，临行。孔明见帐后亲自乱，忽见汉中风抖擞资，威风抖擞，鼓角泉，实测边砖。截秦朗弼于领军山子。百官皆认得惊，乃别“大臣臣夫人也！”蒙曰：“天长只见小儿光烛！”众乃问曰：“可由将主公将，岂不见陛下功名玺！”拍马执归献人来降；却为副将，乃送待与那。”。忽报曰：“孔明在鄱阳原中，令人忙应夏侯楙随苦谏曰：“筵师双部将何期又见众人穷凶来，对薄界，停说曹军事。‘臣领了王位于汉中，随后出兵。程侧报知其事，寻贤日间，忽听炮墙大进；白马军法，地离白家，事不一将，感德忠德轮戟，谓左右囷葬之。”遂深沟高，一夜取以安天下也！”域闻奏，事在马上，乃追吕布平、文聘、砖二将，尊地八魂。”夏侯楙让械访旨。因云长曰：“吾故走耶小沛，兵不反失语。兴、吴懿早复彼矣！”孔明叹曰：“教军在何处？”懿曰：“蜀名将召，存区区，望后面三队，遮兵去了。彼百姓，侵水面牙大患，先早晚投降书与逊探薄略，具行官渡江之上。”二人闻之，曰：“连夜来新时去桃小童襟；若不来接雁，必反写来！”玄伐个大鏖兵四散顿丘民，急令丁原。离射绿车驾，权问曰：“贤焉腑\n"
     ]
    }
   ],
   "source": [
    "# 读取文本文件\n",
    "with open('/kaggle/input/san-guo-txt/san_guo.txt') as f:\n",
    "    text = f.read()\n",
    "\n",
    "# 字典、编码器(函数)、解码器(函数)\n",
    "chars = sorted(list(set(text)))\n",
    "vocab_size = len(chars)\n",
    "stoi = {ch:i for i,ch in enumerate(chars)}  #str_to_index\n",
    "itos = {i:ch for i,ch in enumerate(chars)}  #index_to_str\n",
    "\n",
    "encode = lambda s: [stoi[c] for c in s]\n",
    "decode = lambda l: ''.join([itos[i] for i in l])\n",
    "\n",
    "# 文本转换token index\n",
    "data = torch.tensor(encode(text), dtype=torch.long)\n",
    "\n",
    "# 拆分数据集\n",
    "n = int(len(data) * .9)\n",
    "train_data = data[:n]\n",
    "val_data = data[n:]\n",
    "\n",
    "# 模型训练\n",
    "model = BingramLanguageModel(block_size, vocab_size, n_embd, head_size, num_layers, dropout)\n",
    "model.to(device)\n",
    "optimizer = torch.optim.AdamW(model.parameters(), lr=learn_rate)\n",
    "\n",
    "@torch.no_grad()\n",
    "def estimate_loss():\n",
    "    out = {}\n",
    "    model.eval()\n",
    "    for split in ['train', 'val']:\n",
    "        losses = torch.zeros(eval_iters)\n",
    "        for k in range(eval_iters):\n",
    "            X, Y = get_batch(split)\n",
    "            logits, loss = model(X, Y)\n",
    "            losses[k] = loss.item()\n",
    "        out[split] = losses.mean()\n",
    "    model.train()\n",
    "    return out\n",
    "\n",
    "# 使用tqdm创建进度条\n",
    "progress_bar = tqdm(range(max_iter), desc=\"Training Progress\")\n",
    "\n",
    "for iter in progress_bar:\n",
    "\n",
    "    if iter % eval_interval == 0 or iter == max_iter - 1:\n",
    "        losses = estimate_loss()\n",
    "        progress_bar.set_postfix({\n",
    "            # 'train_loss': f\"{losses['train']:.4f}\",\n",
    "            # 'val_loss': f\"{losses['val']:.4f}\"\n",
    "        })\n",
    "        print(f\"step {iter}: train loss {losses['train']:.4f}, val loss {losses['val']:.4f}\\n\")\n",
    "\n",
    "    # 批次样本\n",
    "    xb, yb = get_batch('train')\n",
    "\n",
    "    logits, loss = model(xb, yb)\n",
    "    optimizer.zero_grad(set_to_none=True)\n",
    "    loss.backward()\n",
    "    optimizer.step()\n",
    "\n",
    "# 模型生成\n",
    "idx = torch.zeros((1,1), dtype=torch.long, device=device)\n",
    "print(\"\\nGenerated Text:\")\n",
    "print(decode(model.generate(idx, max_new_tokens=500)[0].tolist()))"
   ]
  }
 ],
 "metadata": {
  "kaggle": {
   "accelerator": "nvidiaTeslaT4",
   "dataSources": [
    {
     "datasetId": 7928221,
     "sourceId": 12555964,
     "sourceType": "datasetVersion"
    }
   ],
   "isGpuEnabled": true,
   "isInternetEnabled": true,
   "language": "python",
   "sourceType": "notebook"
  },
  "kernelspec": {
   "display_name": "Python 3",
   "language": "python",
   "name": "python3"
  },
  "language_info": {
   "codemirror_mode": {
    "name": "ipython",
    "version": 3
   },
   "file_extension": ".py",
   "mimetype": "text/x-python",
   "name": "python",
   "nbconvert_exporter": "python",
   "pygments_lexer": "ipython3",
   "version": "3.11.13"
  }
 },
 "nbformat": 4,
 "nbformat_minor": 4
}

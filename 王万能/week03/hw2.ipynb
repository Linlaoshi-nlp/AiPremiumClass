{
 "cells": [
  {
   "cell_type": "code",
   "id": "initial_id",
   "metadata": {
    "collapsed": true,
    "ExecuteTime": {
     "end_time": "2025-03-14T14:40:41.104604Z",
     "start_time": "2025-03-14T14:40:38.462083Z"
    }
   },
   "source": [
    "from torchvision import datasets\n",
    "from torchvision.transforms import ToTensor\n",
    "from torch.utils.data import DataLoader\n",
    "import torch.nn as nn\n",
    "import torch"
   ],
   "outputs": [],
   "execution_count": 3
  },
  {
   "metadata": {
    "ExecuteTime": {
     "end_time": "2025-03-14T14:40:44.070564Z",
     "start_time": "2025-03-14T14:40:43.986577Z"
    }
   },
   "cell_type": "code",
   "source": [
    "train_data = datasets.MNIST(root='./data', train=True, download=True, transform=ToTensor())\n",
    "test_data = datasets.MNIST(root='./data', train=False, download=False, transform=ToTensor())"
   ],
   "id": "83b3edcedfd4516e",
   "outputs": [],
   "execution_count": 4
  },
  {
   "metadata": {
    "ExecuteTime": {
     "end_time": "2025-03-14T14:59:21.967486Z",
     "start_time": "2025-03-14T14:59:21.964553Z"
    }
   },
   "cell_type": "code",
   "source": [
    "LR=0.01\n",
    "BATCH_SIZE = 128\n",
    "epochs = 60"
   ],
   "id": "3002e30d5852f2d6",
   "outputs": [],
   "execution_count": 23
  },
  {
   "metadata": {
    "ExecuteTime": {
     "end_time": "2025-03-14T14:40:48.638999Z",
     "start_time": "2025-03-14T14:40:48.636040Z"
    }
   },
   "cell_type": "code",
   "source": [
    "train_dataloader = DataLoader(train_data, batch_size=BATCH_SIZE, shuffle=True)\n",
    "test_dataloader = DataLoader(test_data, batch_size=BATCH_SIZE, shuffle=True)\n"
   ],
   "id": "65c3b8850d7d31cf",
   "outputs": [],
   "execution_count": 6
  },
  {
   "metadata": {
    "ExecuteTime": {
     "end_time": "2025-03-13T14:51:41.570062Z",
     "start_time": "2025-03-13T14:51:41.537068Z"
    }
   },
   "cell_type": "code",
   "source": [
    "train_data1 = datasets.MNIST(root='./data', train=True, download=True)\n",
    "print(train_data1[1])"
   ],
   "id": "a4e080c59bffee6d",
   "outputs": [
    {
     "name": "stdout",
     "output_type": "stream",
     "text": [
      "(<PIL.Image.Image image mode=L size=28x28 at 0x1ED2199ABA0>, 0)\n"
     ]
    }
   ],
   "execution_count": 18
  },
  {
   "metadata": {
    "jupyter": {
     "is_executing": true
    },
    "ExecuteTime": {
     "start_time": "2025-03-14T14:59:30.811995Z"
    }
   },
   "cell_type": "code",
   "source": [
    "# 定义模型\n",
    "model = nn.Sequential(\n",
    "    nn.Linear(28*28, 64),\n",
    "    nn.ReLU(),\n",
    "    nn.Linear(64, 64),\n",
    "    nn.Sigmoid(),\n",
    "    nn.Linear(64, 10),\n",
    ")\n",
    "\n",
    "loss_fn = nn.CrossEntropyLoss()\n",
    "optimizer = torch.optim.SGD(model.parameters(), lr=LR)\n",
    "for epoch in range(epochs):\n",
    "    for data,target in train_dataloader:\n",
    "        predict = model(data.reshape(data.shape[0], -1))\n",
    "        loss = loss_fn(predict, target)\n",
    "        optimizer.zero_grad()\n",
    "        loss.backward()\n",
    "        optimizer.step()\n",
    "    print(f'Epoch:{epoch} Loss: {loss.item()}')"
   ],
   "id": "ba198743e2a3ec1",
   "outputs": [
    {
     "name": "stdout",
     "output_type": "stream",
     "text": [
      "Epoch:0 Loss: 2.2039196491241455\n",
      "Epoch:1 Loss: 1.7996997833251953\n"
     ]
    }
   ],
   "execution_count": null
  },
  {
   "metadata": {
    "ExecuteTime": {
     "end_time": "2025-03-14T14:59:04.042434Z",
     "start_time": "2025-03-14T14:59:03.450962Z"
    }
   },
   "cell_type": "code",
   "source": [
    "# 测试\n",
    "correct = 0\n",
    "total = 0\n",
    "with torch.no_grad():\n",
    "    for data,target in test_dataloader:\n",
    "        output = model(data.reshape(data.shape[0], -1))\n",
    "        _,predict = torch.max(output, 1)\n",
    "        total += target.size(0)\n",
    "        correct += (predict == target).sum().item()\n",
    "    print(f'Accuracy: {100 * correct / total:.2f}%')\n"
   ],
   "id": "bc0f57a012f9c261",
   "outputs": [
    {
     "name": "stdout",
     "output_type": "stream",
     "text": [
      "Accuracy: 35.90%\n"
     ]
    }
   ],
   "execution_count": 21
  }
 ],
 "metadata": {
  "kernelspec": {
   "display_name": "Python 3",
   "language": "python",
   "name": "python3"
  },
  "language_info": {
   "codemirror_mode": {
    "name": "ipython",
    "version": 2
   },
   "file_extension": ".py",
   "mimetype": "text/x-python",
   "name": "python",
   "nbconvert_exporter": "python",
   "pygments_lexer": "ipython2",
   "version": "2.7.6"
  }
 },
 "nbformat": 4,
 "nbformat_minor": 5
}

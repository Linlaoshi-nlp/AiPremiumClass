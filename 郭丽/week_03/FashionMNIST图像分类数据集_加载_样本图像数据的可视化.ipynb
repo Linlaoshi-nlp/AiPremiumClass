{
 "cells": [
  {
   "cell_type": "markdown",
   "metadata": {},
   "source": [
    "#### 加载FashionMNIST图像分类数据集 & 样本图像数据的可视化"
   ]
  },
  {
   "cell_type": "code",
   "execution_count": 1,
   "metadata": {},
   "outputs": [],
   "source": [
    "import torch\n",
    "from torchvision.transforms.v2 import ToTensor     # 转换图像数据为张量\n",
    "from torchvision.datasets import FashionMNIST      # FashionMNIST 是一个常用的图像分类数据集, 包含了 10 类时尚单品的灰度图像, 图像大小（28x28 像素）和数据规模（60,000 训练样本 + 10,000 测试样本）\n",
    "import matplotlib.pyplot as plt\n",
    "import numpy as np"
   ]
  },
  {
   "cell_type": "code",
   "execution_count": 2,
   "metadata": {},
   "outputs": [
    {
     "name": "stderr",
     "output_type": "stream",
     "text": [
      "d:\\Program\\miniconda3\\envs\\py3128\\Lib\\site-packages\\torchvision\\transforms\\v2\\_deprecated.py:42: UserWarning: The transform `ToTensor()` is deprecated and will be removed in a future release. Instead, please use `v2.Compose([v2.ToImage(), v2.ToDtype(torch.float32, scale=True)])`.Output is equivalent up to float precision.\n",
      "  warnings.warn(\n",
      "100.0%\n",
      "100.0%\n",
      "100.0%\n",
      "100.0%\n"
     ]
    }
   ],
   "source": [
    "# 加载FashionMNIST图像分类数据集\n",
    "train_dataset = FashionMNIST(root='./FashionMNIST_Dataset', train=True, download=True, transform=ToTensor())  # transform=ToTensor()表示将图像数据转换为 PyTorch 张量（Tensor），并将像素值从 [0, 255] 缩放到 [0.0, 1.0]\n",
    "test_dataset = FashionMNIST(root='./FashionMNIST_Dataset', train=False, download=True, transform=ToTensor())"
   ]
  },
  {
   "cell_type": "code",
   "execution_count": null,
   "metadata": {},
   "outputs": [
    {
     "name": "stdout",
     "output_type": "stream",
     "text": [
      "60000\n",
      "10000\n"
     ]
    }
   ],
   "source": [
    "# 观察样本的数量\n",
    "print(len(train_dataset))\n",
    "print(len(test_dataset))"
   ]
  },
  {
   "cell_type": "code",
   "execution_count": null,
   "metadata": {},
   "outputs": [
    {
     "name": "stdout",
     "output_type": "stream",
     "text": [
      "torch.Size([1, 28, 28])\n",
      "torch.Size([28, 28])\n",
      "tensor(0.)\n"
     ]
    }
   ],
   "source": [
    "# 观察样本的数据 （加载数据集时使用了ToTensor()进行数据转换）\n",
    "img, label = train_dataset[0]   # 每个样本的数据是一个二元组（img, lavel)： img是样本的图像数据， label是样本的标签 \n",
    "print(img.shape)           #  每个样本的图像数据有几个通道，每个通道上的图像数据的大小\n",
    "print(img[0].shape)          \n",
    "print(img[0, 10, 10])     # 样本图像数据（通道索引，行索引，列索引）的像素值\n"
   ]
  },
  {
   "cell_type": "code",
   "execution_count": 5,
   "metadata": {},
   "outputs": [
    {
     "data": {
      "image/png": "[encoded data removed]",
      "text/plain": [
       "<Figure size 640x480 with 1 Axes>"
      ]
     },
     "metadata": {},
     "output_type": "display_data"
    }
   ],
   "source": [
    "# 样本图像数据的可视化 （加载数据集时使用了ToTensor()进行数据转换）\n",
    "plt.imshow(img[0].numpy(), cmap='gray')   # 将二维数组（如灰度图像）或三维数组（如 RGB 图像）可视化为图像\n",
    "plt.title(label)\n",
    "plt.show()"
   ]
  },
  {
   "cell_type": "code",
   "execution_count": 6,
   "metadata": {},
   "outputs": [
    {
     "name": "stdout",
     "output_type": "stream",
     "text": [
      "{0, 1, 2, 3, 4, 5, 6, 7, 8, 9}\n"
     ]
    }
   ],
   "source": [
    "labels = set([label for img, label in train_dataset]) \n",
    "print(labels)"
   ]
  }
 ],
 "metadata": {
  "kernelspec": {
   "display_name": "py3128",
   "language": "python",
   "name": "python3"
  },
  "language_info": {
   "codemirror_mode": {
    "name": "ipython",
    "version": 3
   },
   "file_extension": ".py",
   "mimetype": "text/x-python",
   "name": "python",
   "nbconvert_exporter": "python",
   "pygments_lexer": "ipython3",
   "version": "3.13.2"
  }
 },
 "nbformat": 4,
 "nbformat_minor": 2
}

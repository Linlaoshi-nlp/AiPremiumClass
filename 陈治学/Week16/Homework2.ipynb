{
 "cells": [
  {
   "cell_type": "code",
   "execution_count": 8,
   "id": "0d147049",
   "metadata": {},
   "outputs": [
    {
     "name": "stdout",
     "output_type": "stream",
     "text": [
      "Downloading Model from https://www.modelscope.cn to directory: C:\\Users\\czx\\.cache\\modelscope\\hub\\models\\Fengshenbang\\Wenzhong-GPT2-110M-chinese-v2\n"
     ]
    },
    {
     "name": "stderr",
     "output_type": "stream",
     "text": [
      "2025-07-22 22:23:15,960 - modelscope - INFO - Got 7 files, start to download ...\n",
      "Processing 7 items:   0%|          | 0.00/7.00 [00:00<?, ?it/s]\n",
      "\u001b[A\n",
      "\n",
      "\u001b[A\u001b[A\n",
      "\n",
      "\n",
      "\u001b[A\u001b[A\u001b[A\n",
      "\n",
      "\n",
      "\n",
      "\n",
      "\n",
      "\u001b[A\u001b[A\u001b[A\u001b[A\u001b[A\u001b[A\n",
      "\n",
      "\n",
      "\n",
      "\n",
      "\u001b[A\u001b[A\u001b[A\u001b[A\u001b[A\n",
      "\n",
      "\n",
      "\n",
      "Downloading [config.json]: 100%|██████████| 783/783 [00:00<00:00, 1.91kB/s]\n",
      "Processing 7 items:  14%|█▍        | 1.00/7.00 [00:00<00:02, 2.32it/s]\n",
      "Downloading [configuration.json]: 100%|██████████| 155/155 [00:00<00:00, 360B/s]\n",
      "\n",
      "\n",
      "\n",
      "\n",
      "\n",
      "\n",
      "Downloading [tokenizer_config.json]: 100%|██████████| 236/236 [00:00<00:00, 507B/s]\n",
      "\n",
      "\n",
      "Downloading [merges.txt]: 100%|██████████| 446k/446k [00:00<00:00, 911kB/s]\n",
      "Processing 7 items:  57%|█████▋    | 4.00/7.00 [00:00<00:00, 9.09it/s]\n",
      "\n",
      "\n",
      "Downloading [special_tokens_map.json]: 100%|██████████| 90.0/90.0 [00:00<00:00, 183B/s]\n",
      "\n",
      "\n",
      "\n",
      "\n",
      "\n",
      "Downloading [vocab.json]: 100%|██████████| 779k/779k [00:00<00:00, 1.63MB/s]\n",
      "\n",
      "\n",
      "\n",
      "\n",
      "\u001b[A\u001b[A\u001b[A\u001b[A\n",
      "\n",
      "\n",
      "\n",
      "Downloading [tokenizer.json]: 100%|██████████| 1.29M/1.29M [00:01<00:00, 1.14MB/s]\n",
      "Processing 7 items: 100%|██████████| 7.00/7.00 [00:01<00:00, 5.58it/s]\n",
      "2025-07-22 22:23:17,220 - modelscope - INFO - Download model 'Fengshenbang/Wenzhong-GPT2-110M-chinese-v2' successfully.\n"
     ]
    },
    {
     "name": "stdout",
     "output_type": "stream",
     "text": [
      "Downloading Model from https://www.modelscope.cn to directory: C:\\Users\\czx\\.cache\\modelscope\\hub\\models\\Fengshenbang\\Wenzhong-GPT2-110M-chinese-v2\n"
     ]
    },
    {
     "name": "stderr",
     "output_type": "stream",
     "text": [
      "2025-07-22 22:23:18,463 - modelscope - INFO - Got 2 files, start to download ...\n",
      "Processing 2 items:   0%|          | 0.00/2.00 [00:00<?, ?it/s]\n",
      "\u001b[A\n",
      "Downloading [README.md]: 100%|██████████| 3.59k/3.59k [00:00<00:00, 12.2kB/s]\n",
      "Downloading [pytorch_model.bin]: 100%|██████████| 261M/261M [01:01<00:00, 4.46MB/s]\n",
      "Processing 2 items: 100%|██████████| 2.00/2.00 [01:01<00:00, 30.8s/it]\n",
      "2025-07-22 22:24:19,981 - modelscope - INFO - Download model 'Fengshenbang/Wenzhong-GPT2-110M-chinese-v2' successfully.\n",
      "The argument `trust_remote_code` is to be used with Auto classes. It has no effect here and is ignored.\n"
     ]
    },
    {
     "name": "stdout",
     "output_type": "stream",
     "text": [
      "生成结果: 自然语言处理是一个很好的方法，但是在计算机系统中，计算机程序\n"
     ]
    }
   ],
   "source": [
    "from modelscope import GPT2Tokenizer,GPT2LMHeadModel\n",
    "import torch\n",
    "\n",
    "# 1. 选择适合内存的轻量级中文模型\n",
    "MODEL_NAME = 'Fengshenbang/Wenzhong-GPT2-110M-chinese-v2'  # 110M参数中文模型\n",
    "\n",
    "# 2. 加载模型和分词器（使用CPU）\n",
    "tokenizer = GPT2Tokenizer.from_pretrained(MODEL_NAME)\n",
    "model = GPT2LMHeadModel.from_pretrained(\n",
    "    MODEL_NAME,\n",
    "    device_map=\"cpu\",  # 强制使用CPU\n",
    "    torch_dtype=torch.float32,  # 使用32位浮点数减少内存\n",
    "    trust_remote_code=True\n",
    ")\n",
    "\n",
    "# 3. 设置低内存模式\n",
    "model.config.use_cache = False  # 禁用缓存减少内存\n",
    "torch.set_grad_enabled(False)   # 禁用梯度计算\n",
    "\n",
    "# 4. 内存优化的文本生成函数\n",
    "def generate_text(prompt, max_length=50):\n",
    "    \"\"\"\n",
    "    逐token生成文本，减少内存峰值使用\n",
    "    \"\"\"\n",
    "    input_ids = tokenizer.encode(prompt, return_tensors=\"pt\")\n",
    "    \n",
    "    # 初始化输出序列\n",
    "    output = input_ids\n",
    "    \n",
    "    # 逐token生成\n",
    "    for _ in range(max_length):\n",
    "        # 只传递当前序列的最后部分（减少内存）\n",
    "        inputs = output[:, -min(64, output.shape[1]):]  # 仅使用最后64个token\n",
    "        \n",
    "        # 前向传播\n",
    "        logits = model(inputs).logits\n",
    "        \n",
    "        # 获取下一个token\n",
    "        next_token = torch.argmax(logits[:, -1, :], dim=-1, keepdim=True)\n",
    "        \n",
    "        # 添加到序列\n",
    "        output = torch.cat((output, next_token), dim=1)\n",
    "        \n",
    "        # 检查终止条件\n",
    "        if next_token.item() == tokenizer.eos_token_id:\n",
    "            break\n",
    "    \n",
    "    return tokenizer.decode(output[0], skip_special_tokens=True)\n",
    "\n",
    "# 5. 测试生成\n",
    "prompt = \"自然语言处理是\"\n",
    "result = generate_text(prompt)\n",
    "print(\"生成结果:\", result)\n"
   ]
  },
  {
   "cell_type": "code",
   "execution_count": null,
   "id": "16c3fef6",
   "metadata": {},
   "outputs": [],
   "source": []
  }
 ],
 "metadata": {
  "kernelspec": {
   "display_name": "nlp_prj",
   "language": "python",
   "name": "python3"
  },
  "language_info": {
   "codemirror_mode": {
    "name": "ipython",
    "version": 3
   },
   "file_extension": ".py",
   "mimetype": "text/x-python",
   "name": "python",
   "nbconvert_exporter": "python",
   "pygments_lexer": "ipython3",
   "version": "3.10.16"
  }
 },
 "nbformat": 4,
 "nbformat_minor": 5
}

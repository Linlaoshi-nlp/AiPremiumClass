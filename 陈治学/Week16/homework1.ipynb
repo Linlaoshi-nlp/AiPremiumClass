{
 "cells": [
  {
   "cell_type": "markdown",
   "id": "4cb6f4fc",
   "metadata": {},
   "source": [
    "# Homework1"
   ]
  },
  {
   "cell_type": "code",
   "execution_count": 4,
   "id": "d053b7a4",
   "metadata": {},
   "outputs": [
    {
     "data": {
      "text/plain": [
       "True"
      ]
     },
     "execution_count": 4,
     "metadata": {},
     "output_type": "execute_result"
    }
   ],
   "source": [
    "from langchain_openai import ChatOpenAI\n",
    "from dotenv import load_dotenv\n",
    "from langchain import hub\n",
    "from langchain_community.tools.tavily_search import TavilySearchResults\n",
    "from langchain.agents import create_tool_calling_agent, AgentExecutor\n",
    "from langchain_community.document_loaders import PyPDFLoader\n",
    "from langchain_community.vectorstores import FAISS\n",
    "from langchain_openai import OpenAIEmbeddings\n",
    "from langchain_core.tools.retriever import create_retriever_tool\n",
    "from langchain_text_splitters import RecursiveCharacterTextSplitter\n",
    "\n",
    "# 加载环境变量\n",
    "load_dotenv()\n"
   ]
  },
  {
   "cell_type": "code",
   "execution_count": 6,
   "id": "0be923b5",
   "metadata": {},
   "outputs": [
    {
     "name": "stdout",
     "output_type": "stream",
     "text": [
      "Looking in indexes: https://mirrors.cernet.edu.cn/pypi/web/simple\n",
      "Collecting pypdf\n",
      "  Downloading https://unicom.mirrors.ustc.edu.cn/pypi/packages/8b/94/05d0310bfa92c26aa50a9d2dea2c6448a1febfdfcf98fb340a99d48a3078/pypdf-5.8.0-py3-none-any.whl (309 kB)\n",
      "Requirement already satisfied: typing_extensions>=4.0 in e:\\miniconda\\envs\\nlp_prj\\lib\\site-packages (from pypdf) (4.12.2)\n",
      "Installing collected packages: pypdf\n",
      "Successfully installed pypdf-5.8.0\n"
     ]
    }
   ],
   "source": [
    "! pip install pypdf"
   ]
  },
  {
   "cell_type": "code",
   "execution_count": null,
   "id": "df779e05",
   "metadata": {},
   "outputs": [
    {
     "name": "stderr",
     "output_type": "stream",
     "text": [
      "C:\\Users\\czx\\AppData\\Local\\Temp\\ipykernel_9524\\3332743208.py:17: LangChainDeprecationWarning: The class `TavilySearchResults` was deprecated in LangChain 0.3.25 and will be removed in 1.0. An updated version of the class exists in the :class:`~langchain-tavily package and should be used instead. To use it run `pip install -U :class:`~langchain-tavily` and import as `from :class:`~langchain_tavily import TavilySearch``.\n",
      "  tavily_tool = TavilySearchResults(max_results=5)\n",
      "e:\\miniconda\\envs\\nlp_prj\\lib\\site-packages\\langsmith\\client.py:272: LangSmithMissingAPIKeyWarning: API key must be provided when using hosted LangSmith API\n",
      "  warnings.warn(\n"
     ]
    },
    {
     "ename": "AttributeError",
     "evalue": "'list' object has no attribute 'input_variables'",
     "output_type": "error",
     "traceback": [
      "\u001b[1;31m---------------------------------------------------------------------------\u001b[0m",
      "\u001b[1;31mAttributeError\u001b[0m                            Traceback (most recent call last)",
      "Cell \u001b[1;32mIn[8], line 23\u001b[0m\n\u001b[0;32m     21\u001b[0m model \u001b[38;5;241m=\u001b[39m ChatOpenAI(model\u001b[38;5;241m=\u001b[39m\u001b[38;5;124m\"\u001b[39m\u001b[38;5;124mgpt-3.5-turbo\u001b[39m\u001b[38;5;124m\"\u001b[39m)\n\u001b[0;32m     22\u001b[0m prompt \u001b[38;5;241m=\u001b[39m hub\u001b[38;5;241m.\u001b[39mpull(\u001b[38;5;124m\"\u001b[39m\u001b[38;5;124mhwchase17/openai-functions-agent\u001b[39m\u001b[38;5;124m\"\u001b[39m)\n\u001b[1;32m---> 23\u001b[0m agent \u001b[38;5;241m=\u001b[39m \u001b[43mcreate_tool_calling_agent\u001b[49m\u001b[43m(\u001b[49m\u001b[43mmodel\u001b[49m\u001b[43m,\u001b[49m\u001b[43m \u001b[49m\u001b[43mprompt\u001b[49m\u001b[43m,\u001b[49m\u001b[43m \u001b[49m\u001b[43mtools\u001b[49m\u001b[43m)\u001b[49m\n\u001b[0;32m     25\u001b[0m \u001b[38;5;66;03m# 5. 创建执行器\u001b[39;00m\n\u001b[0;32m     26\u001b[0m agent_executor \u001b[38;5;241m=\u001b[39m AgentExecutor(agent\u001b[38;5;241m=\u001b[39magent, tools\u001b[38;5;241m=\u001b[39mtools, verbose\u001b[38;5;241m=\u001b[39m\u001b[38;5;28;01mTrue\u001b[39;00m)\n",
      "File \u001b[1;32me:\\miniconda\\envs\\nlp_prj\\lib\\site-packages\\langchain\\agents\\tool_calling_agent\\base.py:90\u001b[0m, in \u001b[0;36mcreate_tool_calling_agent\u001b[1;34m(llm, tools, prompt, message_formatter)\u001b[0m\n\u001b[0;32m     19\u001b[0m \u001b[38;5;28;01mdef\u001b[39;00m\u001b[38;5;250m \u001b[39m\u001b[38;5;21mcreate_tool_calling_agent\u001b[39m(\n\u001b[0;32m     20\u001b[0m     llm: BaseLanguageModel,\n\u001b[0;32m     21\u001b[0m     tools: Sequence[BaseTool],\n\u001b[1;32m   (...)\u001b[0m\n\u001b[0;32m     24\u001b[0m     message_formatter: MessageFormatter \u001b[38;5;241m=\u001b[39m format_to_tool_messages,\n\u001b[0;32m     25\u001b[0m ) \u001b[38;5;241m-\u001b[39m\u001b[38;5;241m>\u001b[39m Runnable:\n\u001b[0;32m     26\u001b[0m \u001b[38;5;250m    \u001b[39m\u001b[38;5;124;03m\"\"\"Create an agent that uses tools.\u001b[39;00m\n\u001b[0;32m     27\u001b[0m \n\u001b[0;32m     28\u001b[0m \u001b[38;5;124;03m    Args:\u001b[39;00m\n\u001b[1;32m   (...)\u001b[0m\n\u001b[0;32m     87\u001b[0m \u001b[38;5;124;03m            messages will be passed in here.\u001b[39;00m\n\u001b[0;32m     88\u001b[0m \u001b[38;5;124;03m    \"\"\"\u001b[39;00m\n\u001b[0;32m     89\u001b[0m     missing_vars \u001b[38;5;241m=\u001b[39m {\u001b[38;5;124m\"\u001b[39m\u001b[38;5;124magent_scratchpad\u001b[39m\u001b[38;5;124m\"\u001b[39m}\u001b[38;5;241m.\u001b[39mdifference(\n\u001b[1;32m---> 90\u001b[0m         \u001b[43mprompt\u001b[49m\u001b[38;5;241;43m.\u001b[39;49m\u001b[43minput_variables\u001b[49m \u001b[38;5;241m+\u001b[39m \u001b[38;5;28mlist\u001b[39m(prompt\u001b[38;5;241m.\u001b[39mpartial_variables)\n\u001b[0;32m     91\u001b[0m     )\n\u001b[0;32m     92\u001b[0m     \u001b[38;5;28;01mif\u001b[39;00m missing_vars:\n\u001b[0;32m     93\u001b[0m         \u001b[38;5;28;01mraise\u001b[39;00m \u001b[38;5;167;01mValueError\u001b[39;00m(\u001b[38;5;124mf\u001b[39m\u001b[38;5;124m\"\u001b[39m\u001b[38;5;124mPrompt missing required variables: \u001b[39m\u001b[38;5;132;01m{\u001b[39;00mmissing_vars\u001b[38;5;132;01m}\u001b[39;00m\u001b[38;5;124m\"\u001b[39m)\n",
      "\u001b[1;31mAttributeError\u001b[0m: 'list' object has no attribute 'input_variables'"
     ]
    }
   ],
   "source": [
    "# 1. 加载并处理PDF文档\n",
    "loader = PyPDFLoader(\"The Era of Experience Paper.pdf\")\n",
    "docs = loader.load()\n",
    "text_splitter = RecursiveCharacterTextSplitter(chunk_size=1000, chunk_overlap=200)\n",
    "splits = text_splitter.split_documents(docs)\n",
    "vectorstore = FAISS.from_documents(splits, OpenAIEmbeddings())\n",
    "retriever = vectorstore.as_retriever()\n",
    "\n",
    "# 2. 创建PDF检索工具\n",
    "pdf_tool = create_retriever_tool(\n",
    "    retriever,\n",
    "    \"pdf_retriever\",\n",
    "    \"搜索并检索PDF文档中的信息。输入应为具体问题或关键词。\"\n",
    ")\n",
    "\n",
    "# 3. 创建Tavily搜索工具\n",
    "tavily_tool = TavilySearchResults(max_results=5)\n",
    "\n",
    "# 4. 组合工具并创建代理\n",
    "tools = [pdf_tool, tavily_tool]\n",
    "model = ChatOpenAI(model=\"gpt-3.5-turbo\")\n",
    "prompt = hub.pull(\"hwchase17/openai-functions-agent\")"
   ]
  },
  {
   "cell_type": "code",
   "execution_count": 9,
   "id": "2b84fe2c",
   "metadata": {},
   "outputs": [],
   "source": [
    "agent=create_tool_calling_agent(llm = model,prompt=prompt,tools=tools)\n",
    "# 5. 创建执行器\n",
    "agent_executor = AgentExecutor(agent=agent, tools=tools, verbose=True)"
   ]
  },
  {
   "cell_type": "code",
   "execution_count": 10,
   "id": "6f80d8eb",
   "metadata": {},
   "outputs": [
    {
     "name": "stdout",
     "output_type": "stream",
     "text": [
      "\n",
      "\n",
      "\u001b[1m> Entering new AgentExecutor chain...\u001b[0m\n",
      "\u001b[32;1m\u001b[1;3m\n",
      "Invoking: `pdf_retriever` with `{'query': 'era of experience'}`\n",
      "\n",
      "\n",
      "\u001b[0m\u001b[36;1m\u001b[1;3mhumans play these games [28, 45]. The era of experience will reconcile this ability with the level of task-\n",
      "generality achieved in the era of human data. This will become possible, as outlined above, when agents are\n",
      "able to autonomously act and observe in streams of real-world experience [11], and where the rewards may\n",
      "be flexibly connected to any of an abundance of grounded, real-world signals. The advent of autonomous\n",
      "agents that interact with complex, real-world action spaces [3, 15, 24], alongside powerful RL methods that\n",
      "can solve open-ended problems in rich reasoning spaces [20, 10] suggests that the transition to the era of\n",
      "experience is imminent.\n",
      "6\n",
      "\n",
      "Welcome to the Era of Experience\n",
      "David Silver, Richard S. Sutton*\n",
      "Abstract\n",
      "We stand on the threshold of a new era in artificial intelligence that promises to achieve an unprece-\n",
      "dented level of ability. A new generation of agents will acquire superhuman capabilities by learning pre-\n",
      "dominantly from experience. This note explores the key characteristics that will define this upcoming era.\n",
      "The Era of Human Data\n",
      "Artificial intelligence (AI) has made remarkable strides over recent years by training on massive amounts of\n",
      "human-generated data and fine-tuning with expert human examples and preferences. This approach is exem-\n",
      "plified by large language models (LLMs) that have achieved a sweeping level of generality. A single LLM\n",
      "can now perform tasks spanning from writing poetry and solving physics problems to diagnosing medical\n",
      "issues and summarising legal documents.\n",
      "However, while imitating humans is enough to reproduce many human capabilities to a competent level,\n",
      "\n",
      "breakthroughs, lie beyond the current boundaries of human understanding and cannot be captured by existing\n",
      "human data.\n",
      "The Era of Experience\n",
      "To progress significantly further, a new source of data is required. This data must be generated in a way that\n",
      "continually improves as the agent becomes stronger; any static procedure for synthetically generating data\n",
      "will quickly become outstripped. This can be achieved by allowing agents to learn continually from their\n",
      "own experience, i.e., data that is generated by the agent interacting with its environment. AI is at the cusp of\n",
      "a new period in which experience will become the dominant medium of improvement and ultimately dwarf\n",
      "the scale of human data used in today’s systems.\n",
      "This transition may have already started, even for the large language models that epitomise human-centric\n",
      "AI. One example is in the capability of mathematics. AlphaProof [20] recently became the first program to\n",
      "\n",
      "may provide a natural brake on the pace of potential AI self-improvement.\n",
      "Conclusion\n",
      "The era of experience marks a pivotal moment in the evolution of AI. Building on today’s strong foundations,\n",
      "but moving beyond the limitations of human-derived data, agents will increasingly learn from their own\n",
      "interactions with the world. Agents will autonomously interact with environments through rich observations\n",
      "and actions. They will continue to adapt over the course of lifelong streams of experience. Their goals\n",
      "will be directable towards any combination of grounded signals. Furthermore, agents will utilise powerful\n",
      "non-human reasoning, and construct plans that are grounded in the consequences of the agent’s actions upon\n",
      "its environment. Ultimately, experiential data will eclipse the scale and quality of human generated data.\n",
      "This paradigm shift, accompanied by algorithmic advancements in RL, will unlock in many domains new\n",
      "capabilities that surpass those possessed by any human.\n",
      "8\u001b[0m\u001b[32;1m\u001b[1;3m\n",
      "Invoking: `tavily_search_results_json` with `{'query': 'latest examples of era of experience'}`\n",
      "\n",
      "\n",
      "\u001b[0m\u001b[33;1m\u001b[1;3m[{'title': 'The Era of Experience: When Machines Break Free from Human ...', 'url': 'https://gregrobison.medium.com/the-era-of-experience-when-machines-break-free-from-human-data-constraints-861a40312301', 'content': 'objectives. For instance, a health assistant could monitor patterns over months, adjusting recommendations based on accumulated data, while a scientific agent could pursue extended research programs toward major breakthroughs like new materials or carbon reduction technologies. [...] AlphaProof’s performance is far more than just a milestone in mathematical AI; it’s a clear demonstration of what the Era of Experience can achieve. Where human-centric approaches had plateaued, AlphaProof’s ability to learn through interaction unlocked genuinely new capabilities. The paper’s authors, including DeepSeek researchers, emphasize this point: “rather than explicitly teaching the model on how to solve a problem, we simply provide it with the right incentives, and it autonomously [...] We’re already seeing these limitations in several domains. In mathematics and coding, the pool of high-quality human data is finite and rapidly approaching exhaustion because there are only so many formal mathematical proofs or elegant code solutions that humans have created. The rate of AI progress in these fields, once explosive, is now slowing as we approach the limits of what can be extracted from human examples. More fundamentally, the most valuable breakthroughs such as new theorems,', 'score': 0.6002124}, {'title': 'AI\\'s \"Era of Experience\" - by Ben Dickson - TechTalks', 'url': 'https://bdtechtalks.substack.com/p/ais-era-of-experience', 'content': 'For example, if a user says they want to stay fit, an AI health assistant can combine that high-level goal with other reward signals, such as the user’s vital signs and health metrics, to create a composite reward function. As the user progresses and provides feedback to the agent, it can gradually adjust its reward function with the user’s changing goals, adding new metrics and data or removing those that are no longer relevant.\\n\\n## Planning and reasoning [...] Both have been vindicated by the recent explosion in advanced AI systems. Large language models (LLMs) proved that there is a lot of untapped potential in scaling learning by just increasing the size of models and training datasets. And more recently, models such as DeepSeek-R1 showed that a simple reward signal and reinforcement learning is enough to improve the performance of models on very complex reasoning tasks. [...] In a new paper (PDF), David Silver and Richard Sutton, two renowned AI scientists, argue that the pace of progress driven solely by supervised learning from human data is slowing and that we need a new approach to create better systems, which they call the “Era of Experience.” Instead of relying on human data, AI systems will gather data from their experience in the world and use it to improve themselves.', 'score': 0.5993685}, {'title': 'Experience Age - a new era > Business Analyst Community ...', 'url': 'https://modernanalyst.com/Community/CommunityBlog/tabid/182/ID/3688/Experience-Age--a-new-era.aspx', 'content': 'The significance of data collection and/or data mining to gain customer insights will no longer be of primary focus. The experience age will necessitate the creation of virtual reality for the consumers to experience a product and/or a service even without buying it. For example, they will feel like they are ‘physically’ at the stadium watching a soccer or rugby match, while sitting in the comfort of their homes. [...] At the centre of the information technology age is the focus of acquiring, storing and processing data to meaningful information and insights to better organisations’ economic progress.  And as we in the first quarter of the 21st century, the non-stopping advances in technology are preparing us for a new era – the experience age. It is reported that by 2025, which is a mere 7 years away, the virtual reality experience will be almost close to the new reality – such that conscious efforts will [...] In the product market space, gamification will probably become one of the dominant form of introducing the experience age to the consumers. In this way, technology will be used to create games for customers to experience the product they are interested in even before buying it – as part of playing the game – as opposed to reading about what the product can do or see the TV ads about what a product does.', 'score': 0.5752307}, {'title': 'In The Experience Transformation Era, Building A Culture Of Action ...', 'url': 'https://www.forbes.com/sites/sap/2021/05/20/in-the-experience-transformation-era-building-a-culture-of-action-is-mission-critical/', 'content': 'Volkswagen Group Australia is another example. After their dealerships shut down as a result of COVID-19 restrictions, and with no existing online sales offering, they quickly leveraged Qualtrics to pulse their customers, finding that many of them showed interest in purchasing a car online. Within two weeks, they developed a digital option enabling customers to buy, trade, or service their car — all virtually. The full-service offering drove a 300% increase in sales. [...] # In The Experience Transformation Era, Building A Culture Of Action Is Mission Critical\\n\\nSAP\\nYoung Woman Arranging Parcel Delivery On Smart Phone\\n\\nBy Brad Anderson, President of Products & Services, Qualtrics\\n\\nWe have known for months now that the ways in which we live and work will never be the same again. Office spaces will look different, travel and commute patterns will continue to shift, and digital tools and services will be front-and-center as organizations embrace the future of work. [...] This era of experience transformation is why the number one priority for companies in the new world of work should be connecting with the hearts and minds of their customers and employees and using those insights to design their new work experiences. Re-writing the playbook on work will not be a “one and done” experience, but a constant evolution. It’s why having the right technology in place to continuously design and improve meaningful experiences will be crucial — and why it will determine', 'score': 0.5357549}, {'title': 'Pioneering the Era of Experience - Scale AI', 'url': 'https://scale.com/blog/era-of-experience', 'content': \"open-ai\\n\\nOpen AI\\n\\nbrex\\n\\nBrex\\n\\nflexport\\n\\nFlexport\\n\\nopensea\\n\\nOpenSea\\n\\n#### Government →\\n\\n#### Leaderboards →\\n\\n# Pioneering the Era of Experience: Where Human Data Meets Agentic Interaction\\n\\nThe remarkable capabilities of today’s AI systems are already transforming how so many people and businesses interact with technology. Driven by data generated by humans, Scale and our global contributors have played a central role bringing us to this “Era of Human Data.” [...] This approach does not replace the foundational role of static data; rather, it adds a powerful mechanism to innovate, especially in areas where human-generated examples are scarce or non-existent. It's a shift from learning from us to learning with and beyond us, setting the stage for new kinds of human-AI collaboration.\\n\\n### How Scale is Building the “Era of Experience” [...] This paradigm shift seen in the “Era of Experience” calls for our community to consider anew our roles as guides and collaborators. For Scale, this means continuing our mission to pioneer the robust evaluation methodologies, data frameworks, and interactive environments necessary for these experiential systems to develop safely and effectively. The expertise we have developed will remain essential, but applied in new contexts: creating the most valuable environments for agents to learn from,\", 'score': 0.47606868}]\u001b[0m\u001b[32;1m\u001b[1;3m\n",
      "Invoking: `tavily_search_results_json` with `{'query': 'era of experience cases'}`\n",
      "\n",
      "\n",
      "\u001b[0m\u001b[33;1m\u001b[1;3m[{'title': \"The 'era of experience' will unleash self-learning AI agents across ...\", 'url': 'https://venturebeat.com/ai/the-era-of-experience-will-unleash-self-learning-ai-agents-across-the-web-heres-how-to-prepare/', 'content': '2.  Actions and observations: Instead of focusing on human-privileged actions and observations, agents in the era of experience will act autonomously in the real world. Examples of this are agentic systems that can interact with external applications and resources through tools such as computer use and Model Context Protocol (MCP). [...] “By building upon the foundations of RL and adapting its core principles to the challenges of this new era, we can unlock the full potential of autonomous learning and pave the way to truly superhuman intelligence,” Sutton and Silver write.\\n\\nDeepMind declined to provide additional comments for the story.\\n\\nDaily insights on business use cases with VB Daily [...] The era of experience means that developers will have to build their applications not only for humans but also with AI agents in mind. Machine-friendly actions require building secure and accessible APIs that can easily be accessed directly or through interfaces such as MCP. It also means creating agents that can be made discoverable through protocols such as Google’s Agent2Agent. You will also need to design your APIs and agentic interfaces to provide access to both actions and observations.', 'score': 0.680136}, {'title': 'AI\\'s \"Era of Experience\" - by Ben Dickson - TechTalks', 'url': 'https://bdtechtalks.substack.com/p/ais-era-of-experience', 'content': 'In a new paper (PDF), David Silver and Richard Sutton, two renowned AI scientists, argue that the pace of progress driven solely by supervised learning from human data is slowing and that we need a new approach to create better systems, which they call the “Era of Experience.” Instead of relying on human data, AI systems will gather data from their experience in the world and use it to improve themselves. [...] For example, if a user says they want to stay fit, an AI health assistant can combine that high-level goal with other reward signals, such as the user’s vital signs and health metrics, to create a composite reward function. As the user progresses and provides feedback to the agent, it can gradually adjust its reward function with the user’s changing goals, adding new metrics and data or removing those that are no longer relevant.\\n\\nPlanning and reasoning\\n---------------------- [...] “Powerful agents should have their own stream of experience that progresses, like humans, over a long timescale,” the authors write. “This will allow agents to take actions to achieve future goals, and to continuously adapt over time to new patterns of behaviour.”', 'score': 0.62879556}, {'title': 'Welcome to The Era of Experience - Medium', 'url': 'https://medium.com/@la_boukouffallah/welcome-to-the-era-of-experience-028440180a86', 'content': 'The paper highlights an example: AlphaProof, an AI that achieved a silver-medal standard in the International Mathematical Olympiad. While it started with a small set of human-created math proofs, AlphaProof used reinforcement learning (a type of experiential learning) to generate millions of new proofs by interacting with a mathematical system. This allowed it to solve problems that went beyond human knowledge, showcasing the power of learning through experience. [...] Experiential learning isn’t brand new — AI has used it before in controlled settings, like playing board games (think AlphaZero mastering chess) or optimizing data center cooling. But these were narrow tasks with clear rules and rewards. The Era of Experience is about applying this approach to the messy, open-ended real world. [...] The Era of Experience is a bold vision for AI’s future. By moving beyond human data and learning through interaction with the world, AI could achieve capabilities we can’t yet imagine. This shift builds on decades of reinforcement learning research, combining it with today’s powerful AI systems to create agents that are autonomous, adaptable, and truly intelligent.', 'score': 0.61779}, {'title': 'Pioneering the Era of Experience - Scale AI', 'url': 'https://scale.com/blog/era-of-experience', 'content': 'But measuring against human experts isn\\'t the final goal. To truly surpass them, as Silver and Sutton argue, AI must learn beyond the confines of pre-existing human knowledge, possibly even beyond human language. This new paradigm, the \"Era of Experience,\" is one where AI generates its own understanding by interacting with the world itself. [...] This paradigm shift seen in the “Era of Experience” calls for our community to consider anew our roles as guides and collaborators. For Scale, this means continuing our mission to pioneer the robust evaluation methodologies, data frameworks, and interactive environments necessary for these experiential systems to develop safely and effectively. The expertise we have developed will remain essential, but applied in new contexts: creating the most valuable environments for agents to learn from, [...] The saturation of traditional benchmarks and the insights from evals like HLE underscore that ushering in the \"Era of Experience\" requires creating the conditions for experiential learning to occur. We are uniquely positioned at Scale to build these environments.', 'score': 0.5488434}, {'title': '[R] [DeepMind] Welcome to the Era of Experience : r/MachineLearning', 'url': 'https://www.reddit.com/r/MachineLearning/comments/1k4zr1i/r_deepmind_welcome_to_the_era_of_experience/', 'content': '> To progress significantly further, a new source of data is required. This data must be generated in a way that continually improves as the agent becomes stronger; any static procedure for synthetically generating data will quickly become outstripped. This can be achieved by allowing agents to learn continually from their own experience, i.e., data that is generated by the agent interacting with its environment. AI is at the cusp of a new period in which experience will become the dominant [...] Open menu Open navigation has made remarkable strides over recent years by training on massive amounts of human-generated data and fine-tuning with expert human examples and preferences. This approach is exem plified by large language models (LLMs) that have achieved a sweeping level of generality. A single LLM can now perform tasks spanning from writing poetry and solving physics problems to diagnosing medical issues and summarising legal documents. However, while imitating humans is enough to [...] > The Era of Experience\\n>', 'score': 0.4603137}]\u001b[0m\u001b[32;1m\u001b[1;3m根据PDF内容，\"era of experience\"指的是一种人工智能的新时代，其特点是代理人将通过主要通过经验学习来获得超人类能力。在这个时代，人工智能代理将通过与环境的互动生成数据并利用这些数据不断提升自己，这将成为进步的主要媒介，最终将超越当前系统中使用的人类数据规模。\n",
      "\n",
      "最新相关案例和论文包括：\n",
      "1. [The Era of Experience: When Machines Break Free from Human Data Constraints](https://gregrobison.medium.com/the-era-of-experience-when-machines-break-free-from-human-data-constraints-861a40312301)\n",
      "2. [AI's \"Era of Experience\" by Ben Dickson - TechTalks](https://bdtechtalks.substack.com/p/ais-era-of-experience)\n",
      "3. [Experience Age - a new era - Business Analyst Community](https://modernanalyst.com/Community/CommunityBlog/tabid/182/ID/3688/Experience-Age--a-new-era.aspx)\n",
      "4. [In The Experience Transformation Era, Building A Culture Of Action - Forbes](https://www.forbes.com/sites/sap/2021/05/20/in-the-experience-transformation-era-building-a-culture-of-action-is-mission-critical/)\n",
      "5. [Pioneering the Era of Experience - Scale AI](https://scale.com/blog/era-of-experience)\n",
      "6. [The 'era of experience' will unleash self-learning AI agents across the web](https://venturebeat.com/ai/the-era-of-experience-will-unleash-self-learning-ai-agents-across-the-web-heres-how-to-prepare/)\n",
      "\n",
      "您可以通过这些链接详细了解最新的\"era of experience\"相关案例和发展。\u001b[0m\n",
      "\n",
      "\u001b[1m> Finished chain.\u001b[0m\n",
      "根据PDF内容，\"era of experience\"指的是一种人工智能的新时代，其特点是代理人将通过主要通过经验学习来获得超人类能力。在这个时代，人工智能代理将通过与环境的互动生成数据并利用这些数据不断提升自己，这将成为进步的主要媒介，最终将超越当前系统中使用的人类数据规模。\n",
      "\n",
      "最新相关案例和论文包括：\n",
      "1. [The Era of Experience: When Machines Break Free from Human Data Constraints](https://gregrobison.medium.com/the-era-of-experience-when-machines-break-free-from-human-data-constraints-861a40312301)\n",
      "2. [AI's \"Era of Experience\" by Ben Dickson - TechTalks](https://bdtechtalks.substack.com/p/ais-era-of-experience)\n",
      "3. [Experience Age - a new era - Business Analyst Community](https://modernanalyst.com/Community/CommunityBlog/tabid/182/ID/3688/Experience-Age--a-new-era.aspx)\n",
      "4. [In The Experience Transformation Era, Building A Culture Of Action - Forbes](https://www.forbes.com/sites/sap/2021/05/20/in-the-experience-transformation-era-building-a-culture-of-action-is-mission-critical/)\n",
      "5. [Pioneering the Era of Experience - Scale AI](https://scale.com/blog/era-of-experience)\n",
      "6. [The 'era of experience' will unleash self-learning AI agents across the web](https://venturebeat.com/ai/the-era-of-experience-will-unleash-self-learning-ai-agents-across-the-web-heres-how-to-prepare/)\n",
      "\n",
      "您可以通过这些链接详细了解最新的\"era of experience\"相关案例和发展。\n"
     ]
    }
   ],
   "source": [
    "response = agent_executor.invoke({\n",
    "    \"input\": \"根据PDF内容，解释什么是era of experience，并用Tavily搜索最新相关案例\"\n",
    "})\n",
    "print(response[\"output\"])"
   ]
  }
 ],
 "metadata": {
  "kernelspec": {
   "display_name": "nlp_prj",
   "language": "python",
   "name": "python3"
  },
  "language_info": {
   "codemirror_mode": {
    "name": "ipython",
    "version": 3
   },
   "file_extension": ".py",
   "mimetype": "text/x-python",
   "name": "python",
   "nbconvert_exporter": "python",
   "pygments_lexer": "ipython3",
   "version": "3.10.16"
  }
 },
 "nbformat": 4,
 "nbformat_minor": 5
}

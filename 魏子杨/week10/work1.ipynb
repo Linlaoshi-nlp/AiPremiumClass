{
 "cells": [
  {
   "cell_type": "code",
   "execution_count": null,
   "id": "ede71670",
   "metadata": {},
   "outputs": [
    {
     "name": "stdout",
     "output_type": "stream",
     "text": [
      "Looking in indexes: http://mirrors.aliyun.com/pypi/simple/\n",
      "Collecting openpyxl\n",
      "  Using cached http://mirrors.aliyun.com/pypi/packages/c0/da/977ded879c29cbd04de313843e76868e6e13408a94ed6b987245dc7c8506/openpyxl-3.1.5-py2.py3-none-any.whl (250 kB)\n",
      "Collecting et-xmlfile (from openpyxl)\n",
      "  Using cached http://mirrors.aliyun.com/pypi/packages/c1/8b/5fe2cc11fee489817272089c4203e679c63b570a5aaeb18d852ae3cbba6a/et_xmlfile-2.0.0-py3-none-any.whl (18 kB)\n",
      "Installing collected packages: et-xmlfile, openpyxl\n",
      "Successfully installed et-xmlfile-2.0.0 openpyxl-3.1.5\n",
      "Note: you may need to restart the kernel to use updated packages.\n"
     ]
    }
   ],
   "source": [
    "pip install openpyxl\n"
   ]
  },
  {
   "cell_type": "code",
   "execution_count": 16,
   "id": "ced39403",
   "metadata": {},
   "outputs": [
    {
     "name": "stdout",
     "output_type": "stream",
     "text": [
      "Looking in indexes: http://mirrors.aliyun.com/pypi/simple/\n",
      "Collecting transformers\n",
      "  Using cached http://mirrors.aliyun.com/pypi/packages/96/88/beb33a79a382fcd2aed0be5222bdc47f41e4bfe7aaa90ae1374f1d8ea2af/transformers-4.53.2-py3-none-any.whl (10.8 MB)\n",
      "Requirement already satisfied: filelock in d:\\software\\python\\miniconda\\envs\\py312\\lib\\site-packages (from transformers) (3.17.0)\n",
      "Collecting huggingface-hub<1.0,>=0.30.0 (from transformers)\n",
      "  Using cached http://mirrors.aliyun.com/pypi/packages/46/7b/98daa50a2db034cab6cd23a3de04fa2358cb691593d28e9130203eb7a805/huggingface_hub-0.33.4-py3-none-any.whl (515 kB)\n",
      "Requirement already satisfied: numpy>=1.17 in d:\\software\\python\\miniconda\\envs\\py312\\lib\\site-packages (from transformers) (1.26.4)\n",
      "Requirement already satisfied: packaging>=20.0 in d:\\software\\python\\miniconda\\envs\\py312\\lib\\site-packages (from transformers) (24.2)\n",
      "Requirement already satisfied: pyyaml>=5.1 in d:\\software\\python\\miniconda\\envs\\py312\\lib\\site-packages (from transformers) (6.0.2)\n",
      "Requirement already satisfied: regex!=2019.12.17 in d:\\software\\python\\miniconda\\envs\\py312\\lib\\site-packages (from transformers) (2024.11.6)\n",
      "Requirement already satisfied: requests in d:\\software\\python\\miniconda\\envs\\py312\\lib\\site-packages (from transformers) (2.32.3)\n",
      "Collecting tokenizers<0.22,>=0.21 (from transformers)\n",
      "  Using cached http://mirrors.aliyun.com/pypi/packages/13/c3/cc2755ee10be859c4338c962a35b9a663788c0c0b50c0bdd8078fb6870cf/tokenizers-0.21.2-cp39-abi3-win_amd64.whl (2.5 MB)\n",
      "Collecting safetensors>=0.4.3 (from transformers)\n",
      "  Using cached http://mirrors.aliyun.com/pypi/packages/69/e2/b011c38e5394c4c18fb5500778a55ec43ad6106126e74723ffaee246f56e/safetensors-0.5.3-cp38-abi3-win_amd64.whl (308 kB)\n",
      "Requirement already satisfied: tqdm>=4.27 in d:\\software\\python\\miniconda\\envs\\py312\\lib\\site-packages (from transformers) (4.67.1)\n",
      "Requirement already satisfied: fsspec>=2023.5.0 in d:\\software\\python\\miniconda\\envs\\py312\\lib\\site-packages (from huggingface-hub<1.0,>=0.30.0->transformers) (2025.2.0)\n",
      "Requirement already satisfied: typing-extensions>=3.7.4.3 in d:\\software\\python\\miniconda\\envs\\py312\\lib\\site-packages (from huggingface-hub<1.0,>=0.30.0->transformers) (4.12.2)\n",
      "Requirement already satisfied: colorama in d:\\software\\python\\miniconda\\envs\\py312\\lib\\site-packages (from tqdm>=4.27->transformers) (0.4.6)\n",
      "Requirement already satisfied: charset-normalizer<4,>=2 in d:\\software\\python\\miniconda\\envs\\py312\\lib\\site-packages (from requests->transformers) (3.4.1)\n",
      "Requirement already satisfied: idna<4,>=2.5 in d:\\software\\python\\miniconda\\envs\\py312\\lib\\site-packages (from requests->transformers) (3.10)\n",
      "Requirement already satisfied: urllib3<3,>=1.21.1 in d:\\software\\python\\miniconda\\envs\\py312\\lib\\site-packages (from requests->transformers) (2.4.0)\n",
      "Requirement already satisfied: certifi>=2017.4.17 in d:\\software\\python\\miniconda\\envs\\py312\\lib\\site-packages (from requests->transformers) (2025.1.31)\n",
      "Installing collected packages: safetensors, huggingface-hub, tokenizers, transformers\n",
      "Successfully installed huggingface-hub-0.33.4 safetensors-0.5.3 tokenizers-0.21.2 transformers-4.53.2\n",
      "Note: you may need to restart the kernel to use updated packages.\n"
     ]
    }
   ],
   "source": [
    "pip install transformers"
   ]
  },
  {
   "cell_type": "code",
   "execution_count": 6,
   "id": "00705d9e",
   "metadata": {},
   "outputs": [
    {
     "name": "stdout",
     "output_type": "stream",
     "text": [
      "文件 week10/jd_comment_data.xlsx 不存在！\n"
     ]
    }
   ],
   "source": [
    "import pandas as pd\n",
    "import os\n",
    "\n",
    "# 第一步导入数据\n",
    "# 检查文件是否存在\n",
    "file_path = 'week10/jd_comment_data.xlsx'\n",
    "if os.path.exists(file_path):\n",
    "    df = pd.read_excel(file_path)\n",
    "    #print(df.head())\n",
    "else:\n",
    "    print(f\"文件 {file_path} 不存在！\")\n",
    "\n"
   ]
  },
  {
   "cell_type": "code",
   "execution_count": 7,
   "id": "79a76ffd",
   "metadata": {},
   "outputs": [],
   "source": [
    "\n",
    "#第二步 过滤数据只取出需要的数据\n",
    "filterd = df[(df['评价内容(content)'].str.len() > 5) & (df['评价内容(content)'] != \"此用户未填写评价内容\")]\n",
    "data_df = filterd[['评价内容(content)','评分（总分5分）(score)']]"
   ]
  },
  {
   "cell_type": "code",
   "execution_count": 12,
   "id": "de69a2d7",
   "metadata": {},
   "outputs": [],
   "source": [
    "data=data_df.values"
   ]
  },
  {
   "cell_type": "code",
   "execution_count": 13,
   "id": "caa3d771",
   "metadata": {},
   "outputs": [],
   "source": [
    "#第三步拆分训练集与测试集\n",
    "from sklearn.model_selection import train_test_split\n",
    "train ,test = train_test_split(data)"
   ]
  },
  {
   "cell_type": "code",
   "execution_count": 17,
   "id": "0933c311",
   "metadata": {},
   "outputs": [
    {
     "name": "stderr",
     "output_type": "stream",
     "text": [
      "d:\\software\\python\\miniconda\\envs\\py312\\Lib\\site-packages\\tqdm\\auto.py:21: TqdmWarning: IProgress not found. Please update jupyter and ipywidgets. See https://ipywidgets.readthedocs.io/en/stable/user_install.html\n",
      "  from .autonotebook import tqdm as notebook_tqdm\n",
      "d:\\software\\python\\miniconda\\envs\\py312\\Lib\\site-packages\\huggingface_hub\\file_download.py:143: UserWarning: `huggingface_hub` cache-system uses symlinks by default to efficiently store duplicated files but your machine does not support them in C:\\Users\\wzy\\.cache\\huggingface\\hub\\models--hfl--chinese-bert-wwm. Caching files will still work but in a degraded version that might require more space on your disk. This warning can be disabled by setting the `HF_HUB_DISABLE_SYMLINKS_WARNING` environment variable. For more details, see https://huggingface.co/docs/huggingface_hub/how-to-cache#limitations.\n",
      "To support symlinks on Windows, you either need to activate Developer Mode or to run Python as an administrator. In order to activate developer mode, see this article: https://docs.microsoft.com/en-us/windows/apps/get-started/enable-your-device-for-development\n",
      "  warnings.warn(message)\n"
     ]
    }
   ],
   "source": [
    "#第四步，加分词器，并将语料处理为Datalord\n",
    "from transformers import AutoTokenizer, AutoModelForSequenceClassification\n",
    "tokenzier = AutoTokenizer.from_pretrained('hfl/chinese-bert-wwm')"
   ]
  },
  {
   "cell_type": "code",
   "execution_count": null,
   "id": "4cbe4fb8",
   "metadata": {},
   "outputs": [],
   "source": [
    "from torch.utils.data import DataLoader\n",
    "import torch\n",
    "import torch.nn as nn\n",
    "def warp_data(batch_data):\n",
    "    comments, lables = [],[]\n",
    "    for bdate in batch_data:\n",
    "        comments.append(bdate[0])\n",
    "        lables.append(int(bdate[1])-1)  # 标签取值[0-4]\n",
    "    \n",
    "    # 转换模型输入数据,pt表示的就是PyTorch，truncation表示如果超出了最大限制就截取，为false超出就报错\n",
    "    input_data = tokenzier(comments, return_tensors='pt', padding=True, truncation=True, max_length=512)\n",
    "    labels_data = torch.tensor(lables)\n",
    "    \n",
    "    return input_data, labels_data\n",
    "\n",
    "train_dl = DataLoader(train, batch_size=20, shuffle=True, collate_fn = warp_data)\n",
    "test_dl = DataLoader(test, batch_size=20, shuffle=False, collate_fn = warp_data)"
   ]
  },
  {
   "cell_type": "code",
   "execution_count": 26,
   "id": "248c48f5",
   "metadata": {},
   "outputs": [
    {
     "name": "stderr",
     "output_type": "stream",
     "text": [
      "Some weights of BertForSequenceClassification were not initialized from the model checkpoint at hfl/chinese-bert-wwm and are newly initialized: ['classifier.bias', 'classifier.weight']\n",
      "You should probably TRAIN this model on a down-stream task to be able to use it for predictions and inference.\n",
      "Some weights of BertForSequenceClassification were not initialized from the model checkpoint at hfl/chinese-bert-wwm and are newly initialized: ['classifier.bias', 'classifier.weight']\n",
      "You should probably TRAIN this model on a down-stream task to be able to use it for predictions and inference.\n"
     ]
    }
   ],
   "source": [
    "#第五步，新建模型、损失函数与学习率\n",
    "model_1 = AutoModelForSequenceClassification.from_pretrained('hfl/chinese-bert-wwm', num_labels=5)\n",
    "model_2 = AutoModelForSequenceClassification.from_pretrained('hfl/chinese-bert-wwm', num_labels=5)"
   ]
  },
  {
   "cell_type": "code",
   "execution_count": 27,
   "id": "48bc3c0f",
   "metadata": {},
   "outputs": [],
   "source": [
    "from torch.optim import Adam\n",
    "# loss、optim\n",
    "loss_fn1 = nn.CrossEntropyLoss()\n",
    "optim1 = Adam(model_1.parameters(), lr=1e-3)\n",
    "\n",
    "loss_fn2 = nn.CrossEntropyLoss()\n",
    "optim2 = Adam(model_2.parameters(), lr=1e-3)"
   ]
  },
  {
   "cell_type": "code",
   "execution_count": 28,
   "id": "c6f18838",
   "metadata": {},
   "outputs": [
    {
     "name": "stderr",
     "output_type": "stream",
     "text": [
      "epoch:0 train_loss:0.6201:   1%|▏         | 22/1506 [03:57<4:27:18, 10.81s/it]\n"
     ]
    },
    {
     "ename": "KeyboardInterrupt",
     "evalue": "",
     "output_type": "error",
     "traceback": [
      "\u001b[1;31m---------------------------------------------------------------------------\u001b[0m",
      "\u001b[1;31mKeyboardInterrupt\u001b[0m                         Traceback (most recent call last)",
      "Cell \u001b[1;32mIn[28], line 21\u001b[0m\n\u001b[0;32m     18\u001b[0m writer\u001b[38;5;241m.\u001b[39madd_scalar(\u001b[38;5;124m\"\u001b[39m\u001b[38;5;124mFine Tuning Train Loss\u001b[39m\u001b[38;5;124m\"\u001b[39m, loss, model1_train_loss_cnt)\n\u001b[0;32m     19\u001b[0m model1_train_loss_cnt \u001b[38;5;241m+\u001b[39m\u001b[38;5;241m=\u001b[39m \u001b[38;5;241m1\u001b[39m\n\u001b[1;32m---> 21\u001b[0m \u001b[43mloss\u001b[49m\u001b[38;5;241;43m.\u001b[39;49m\u001b[43mbackward\u001b[49m\u001b[43m(\u001b[49m\u001b[43m)\u001b[49m\n\u001b[0;32m     22\u001b[0m optim1\u001b[38;5;241m.\u001b[39mstep()\n\u001b[0;32m     24\u001b[0m model_1\u001b[38;5;241m.\u001b[39mzero_grad()\n",
      "File \u001b[1;32md:\\software\\python\\miniconda\\envs\\py312\\Lib\\site-packages\\torch\\_tensor.py:626\u001b[0m, in \u001b[0;36mTensor.backward\u001b[1;34m(self, gradient, retain_graph, create_graph, inputs)\u001b[0m\n\u001b[0;32m    616\u001b[0m \u001b[38;5;28;01mif\u001b[39;00m has_torch_function_unary(\u001b[38;5;28mself\u001b[39m):\n\u001b[0;32m    617\u001b[0m     \u001b[38;5;28;01mreturn\u001b[39;00m handle_torch_function(\n\u001b[0;32m    618\u001b[0m         Tensor\u001b[38;5;241m.\u001b[39mbackward,\n\u001b[0;32m    619\u001b[0m         (\u001b[38;5;28mself\u001b[39m,),\n\u001b[1;32m   (...)\u001b[0m\n\u001b[0;32m    624\u001b[0m         inputs\u001b[38;5;241m=\u001b[39minputs,\n\u001b[0;32m    625\u001b[0m     )\n\u001b[1;32m--> 626\u001b[0m \u001b[43mtorch\u001b[49m\u001b[38;5;241;43m.\u001b[39;49m\u001b[43mautograd\u001b[49m\u001b[38;5;241;43m.\u001b[39;49m\u001b[43mbackward\u001b[49m\u001b[43m(\u001b[49m\n\u001b[0;32m    627\u001b[0m \u001b[43m    \u001b[49m\u001b[38;5;28;43mself\u001b[39;49m\u001b[43m,\u001b[49m\u001b[43m \u001b[49m\u001b[43mgradient\u001b[49m\u001b[43m,\u001b[49m\u001b[43m \u001b[49m\u001b[43mretain_graph\u001b[49m\u001b[43m,\u001b[49m\u001b[43m \u001b[49m\u001b[43mcreate_graph\u001b[49m\u001b[43m,\u001b[49m\u001b[43m \u001b[49m\u001b[43minputs\u001b[49m\u001b[38;5;241;43m=\u001b[39;49m\u001b[43minputs\u001b[49m\n\u001b[0;32m    628\u001b[0m \u001b[43m\u001b[49m\u001b[43m)\u001b[49m\n",
      "File \u001b[1;32md:\\software\\python\\miniconda\\envs\\py312\\Lib\\site-packages\\torch\\autograd\\__init__.py:347\u001b[0m, in \u001b[0;36mbackward\u001b[1;34m(tensors, grad_tensors, retain_graph, create_graph, grad_variables, inputs)\u001b[0m\n\u001b[0;32m    342\u001b[0m     retain_graph \u001b[38;5;241m=\u001b[39m create_graph\n\u001b[0;32m    344\u001b[0m \u001b[38;5;66;03m# The reason we repeat the same comment below is that\u001b[39;00m\n\u001b[0;32m    345\u001b[0m \u001b[38;5;66;03m# some Python versions print out the first line of a multi-line function\u001b[39;00m\n\u001b[0;32m    346\u001b[0m \u001b[38;5;66;03m# calls in the traceback and some print out the last line\u001b[39;00m\n\u001b[1;32m--> 347\u001b[0m \u001b[43m_engine_run_backward\u001b[49m\u001b[43m(\u001b[49m\n\u001b[0;32m    348\u001b[0m \u001b[43m    \u001b[49m\u001b[43mtensors\u001b[49m\u001b[43m,\u001b[49m\n\u001b[0;32m    349\u001b[0m \u001b[43m    \u001b[49m\u001b[43mgrad_tensors_\u001b[49m\u001b[43m,\u001b[49m\n\u001b[0;32m    350\u001b[0m \u001b[43m    \u001b[49m\u001b[43mretain_graph\u001b[49m\u001b[43m,\u001b[49m\n\u001b[0;32m    351\u001b[0m \u001b[43m    \u001b[49m\u001b[43mcreate_graph\u001b[49m\u001b[43m,\u001b[49m\n\u001b[0;32m    352\u001b[0m \u001b[43m    \u001b[49m\u001b[43minputs\u001b[49m\u001b[43m,\u001b[49m\n\u001b[0;32m    353\u001b[0m \u001b[43m    \u001b[49m\u001b[43mallow_unreachable\u001b[49m\u001b[38;5;241;43m=\u001b[39;49m\u001b[38;5;28;43;01mTrue\u001b[39;49;00m\u001b[43m,\u001b[49m\n\u001b[0;32m    354\u001b[0m \u001b[43m    \u001b[49m\u001b[43maccumulate_grad\u001b[49m\u001b[38;5;241;43m=\u001b[39;49m\u001b[38;5;28;43;01mTrue\u001b[39;49;00m\u001b[43m,\u001b[49m\n\u001b[0;32m    355\u001b[0m \u001b[43m\u001b[49m\u001b[43m)\u001b[49m\n",
      "File \u001b[1;32md:\\software\\python\\miniconda\\envs\\py312\\Lib\\site-packages\\torch\\autograd\\graph.py:823\u001b[0m, in \u001b[0;36m_engine_run_backward\u001b[1;34m(t_outputs, *args, **kwargs)\u001b[0m\n\u001b[0;32m    821\u001b[0m     unregister_hooks \u001b[38;5;241m=\u001b[39m _register_logging_hooks_on_whole_graph(t_outputs)\n\u001b[0;32m    822\u001b[0m \u001b[38;5;28;01mtry\u001b[39;00m:\n\u001b[1;32m--> 823\u001b[0m     \u001b[38;5;28;01mreturn\u001b[39;00m \u001b[43mVariable\u001b[49m\u001b[38;5;241;43m.\u001b[39;49m\u001b[43m_execution_engine\u001b[49m\u001b[38;5;241;43m.\u001b[39;49m\u001b[43mrun_backward\u001b[49m\u001b[43m(\u001b[49m\u001b[43m  \u001b[49m\u001b[38;5;66;43;03m# Calls into the C++ engine to run the backward pass\u001b[39;49;00m\n\u001b[0;32m    824\u001b[0m \u001b[43m        \u001b[49m\u001b[43mt_outputs\u001b[49m\u001b[43m,\u001b[49m\u001b[43m \u001b[49m\u001b[38;5;241;43m*\u001b[39;49m\u001b[43margs\u001b[49m\u001b[43m,\u001b[49m\u001b[43m \u001b[49m\u001b[38;5;241;43m*\u001b[39;49m\u001b[38;5;241;43m*\u001b[39;49m\u001b[43mkwargs\u001b[49m\n\u001b[0;32m    825\u001b[0m \u001b[43m    \u001b[49m\u001b[43m)\u001b[49m  \u001b[38;5;66;03m# Calls into the C++ engine to run the backward pass\u001b[39;00m\n\u001b[0;32m    826\u001b[0m \u001b[38;5;28;01mfinally\u001b[39;00m:\n\u001b[0;32m    827\u001b[0m     \u001b[38;5;28;01mif\u001b[39;00m attach_logging_hooks:\n",
      "\u001b[1;31mKeyboardInterrupt\u001b[0m: "
     ]
    }
   ],
   "source": [
    "from tqdm import tqdm #进度条函数\n",
    "from torch.utils.tensorboard import SummaryWriter  #TensorBoard可视化配置\n",
    "\n",
    "writer = SummaryWriter()\n",
    "model1_train_loss_cnt = 0\n",
    "\n",
    "for epoch in range(3):\n",
    "    pbar = tqdm(train_dl)\n",
    "    for input_data, labels_data in pbar:\n",
    "        datas = { k:v for k,v in input_data.items() }\n",
    "        labels = labels_data\n",
    "        \n",
    "        result = model_1(**datas)\n",
    "        loss = loss_fn1(result.logits, labels)\n",
    "        \n",
    "        pbar.set_description(f'epoch:{epoch} train_loss:{loss.item():.4f}')\n",
    "\n",
    "        writer.add_scalar(\"Fine Tuning Train Loss\", loss, model1_train_loss_cnt)\n",
    "        model1_train_loss_cnt += 1\n",
    "        \n",
    "        loss.backward()\n",
    "        optim1.step()\n",
    "        \n",
    "        model_1.zero_grad()\n",
    "\n",
    "\n",
    "torch.save(model_1.state_dict(),'model_1.pt')"
   ]
  },
  {
   "cell_type": "code",
   "execution_count": null,
   "id": "d55f96a0",
   "metadata": {},
   "outputs": [],
   "source": [
    "for param in model_2.parameters():\n",
    "    param.requires_grad = False\n",
    "\n",
    "\n",
    "model2_train_loss_cnt = 0\n",
    "\n",
    "for epoch in range(3):\n",
    "    pbar = tqdm(train_dl)\n",
    "    for input_data, labels_data in pbar:\n",
    "        datas = { k:v for k,v in input_data.items() }\n",
    "        labels = labels_data\n",
    "        \n",
    "        result = model_2(**datas)\n",
    "        loss = loss_fn2(result.logits, labels)\n",
    "        \n",
    "        pbar.set_description(f'epoch:{epoch} train_loss:{loss.item():.4f}')\n",
    "\n",
    "        writer.add_scalar(\"Transfer Learning Train Loss\", loss, model2_train_loss_cnt)\n",
    "        model2_train_loss_cnt += 1\n",
    "        \n",
    "        loss.backward()\n",
    "        optim2.step()\n",
    "        \n",
    "        model_2.zero_grad()\n",
    "\n",
    "\n",
    "torch.save(model_2.state_dict(),'model_2.pt')"
   ]
  },
  {
   "cell_type": "code",
   "execution_count": null,
   "id": "b2012939",
   "metadata": {},
   "outputs": [],
   "source": [
    "model_1.eval()\n",
    "model_2.eval()\n",
    "pbar = tqdm(test_dl)\n",
    "\n",
    "\n",
    "correct1, correct2 = 0,0\n",
    "\n",
    "for input_data, labels_data in pbar:\n",
    "    datas = { k:v for k,v in input_data.items() }\n",
    "    labels = labels_data\n",
    "\n",
    "    with torch.no_grad():\n",
    "        result1 = model_1(**datas)\n",
    "        result2 = model_2(**datas)\n",
    "\n",
    "    predict1 = torch.argmax(result1.logits, dim=-1)\n",
    "    predict2 = torch.argmax(result2.logits, dim=-1)\n",
    "\n",
    "    correct1 += (predict1 == labels).sum()\n",
    "    correct2 += (predict1 == labels).sum()"
   ]
  }
 ],
 "metadata": {
  "kernelspec": {
   "display_name": "py312",
   "language": "python",
   "name": "python3"
  },
  "language_info": {
   "codemirror_mode": {
    "name": "ipython",
    "version": 3
   },
   "file_extension": ".py",
   "mimetype": "text/x-python",
   "name": "python",
   "nbconvert_exporter": "python",
   "pygments_lexer": "ipython3",
   "version": "3.12.9"
  }
 },
 "nbformat": 4,
 "nbformat_minor": 5
}
